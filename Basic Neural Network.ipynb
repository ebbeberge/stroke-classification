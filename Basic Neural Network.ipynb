{
 "cells": [
  {
   "cell_type": "markdown",
   "metadata": {},
   "source": [
    "# Basic Neural Network Approach"
   ]
  },
  {
   "cell_type": "code",
   "execution_count": 3,
   "metadata": {},
   "outputs": [],
   "source": [
    "# Importing libraries\n",
    "import numpy as np\n",
    "import pandas as pd\n",
    "from tensorflow import keras\n",
    "from tensorflow.keras.optimizers import SGD\n",
    "from sklearn.preprocessing import StandardScaler\n",
    "from sklearn.model_selection import train_test_split"
   ]
  },
  {
   "cell_type": "code",
   "execution_count": 4,
   "metadata": {},
   "outputs": [],
   "source": [
    "# Importing the cleaned data\n",
    "stroke_clean = pd.read_csv('stroke_clean.csv', index_col='id')"
   ]
  },
  {
   "cell_type": "code",
   "execution_count": 5,
   "metadata": {},
   "outputs": [],
   "source": [
    "# Do a train-test split\n",
    "X = np.array(stroke_clean.loc[:, stroke_clean.columns != 'stroke'])\n",
    "y = np.array(stroke_clean['stroke'])\n",
    "test_size = 0.3\n",
    "\n",
    "X_train, X_test, y_train, y_test = train_test_split(X, y, test_size=test_size, random_state=42)"
   ]
  },
  {
   "cell_type": "code",
   "execution_count": 6,
   "metadata": {},
   "outputs": [],
   "source": [
    "# Scaling the data\n",
    "scaler = StandardScaler()\n",
    "X_train = scaler.fit_transform(X_train)\n",
    "X_test = scaler.transform(X_test)"
   ]
  },
  {
   "cell_type": "code",
   "execution_count": 7,
   "metadata": {},
   "outputs": [],
   "source": [
    "# Making the layers\n",
    "model = keras.models.Sequential([\n",
    "    keras.layers.Input(shape=[17]),\n",
    "    keras.layers.Dense(100, activation=\"relu\"),\n",
    "    keras.layers.Dropout(rate=0.5),\n",
    "    keras.layers.Dense(100, activation=\"relu\"),\n",
    "    keras.layers.Dropout(rate=0.5),\n",
    "    keras.layers.Dense(1, activation=\"sigmoid\")\n",
    "])"
   ]
  },
  {
   "cell_type": "code",
   "execution_count": 8,
   "metadata": {},
   "outputs": [
    {
     "name": "stdout",
     "output_type": "stream",
     "text": [
      "Model: \"sequential\"\n",
      "_________________________________________________________________\n",
      "Layer (type)                 Output Shape              Param #   \n",
      "=================================================================\n",
      "dense (Dense)                (None, 100)               1800      \n",
      "_________________________________________________________________\n",
      "dropout (Dropout)            (None, 100)               0         \n",
      "_________________________________________________________________\n",
      "dense_1 (Dense)              (None, 100)               10100     \n",
      "_________________________________________________________________\n",
      "dropout_1 (Dropout)          (None, 100)               0         \n",
      "_________________________________________________________________\n",
      "dense_2 (Dense)              (None, 1)                 101       \n",
      "=================================================================\n",
      "Total params: 12,001\n",
      "Trainable params: 12,001\n",
      "Non-trainable params: 0\n",
      "_________________________________________________________________\n"
     ]
    }
   ],
   "source": [
    "# Checking out the model\n",
    "model.summary()"
   ]
  },
  {
   "cell_type": "code",
   "execution_count": 9,
   "metadata": {},
   "outputs": [],
   "source": [
    "# Compiling the model\n",
    "model.compile(loss=\"binary_crossentropy\", optimizer='SGD', metrics=[keras.metrics.Recall(), keras.metrics.Precision(), 'accuracy'])"
   ]
  },
  {
   "cell_type": "code",
   "execution_count": 10,
   "metadata": {},
   "outputs": [
    {
     "name": "stdout",
     "output_type": "stream",
     "text": [
      "Epoch 1/5\n",
      "108/108 [==============================] - 0s 1ms/step - loss: 1.8403 - recall: 0.8686 - precision: 0.0443 - accuracy: 0.2469\n",
      "Epoch 2/5\n",
      "108/108 [==============================] - 0s 1ms/step - loss: 1.6215 - recall: 0.9124 - precision: 0.0550 - accuracy: 0.3718\n",
      "Epoch 3/5\n",
      "108/108 [==============================] - 0s 1ms/step - loss: 1.5257 - recall: 0.9051 - precision: 0.0631 - accuracy: 0.4606  \n",
      "Epoch 4/5\n",
      "108/108 [==============================] - 0s 1ms/step - loss: 1.4516 - recall: 0.9489 - precision: 0.0692 - accuracy: 0.4891\n",
      "Epoch 5/5\n",
      "108/108 [==============================] - 0s 1ms/step - loss: 1.4556 - recall: 0.9197 - precision: 0.0713 - accuracy: 0.5188  \n"
     ]
    },
    {
     "data": {
      "text/plain": [
       "<tensorflow.python.keras.callbacks.History at 0x22077fefc40>"
      ]
     },
     "execution_count": 10,
     "metadata": {},
     "output_type": "execute_result"
    }
   ],
   "source": [
    "# Fitting the model to people \n",
    "class_weight = {0: 1., 1: 50.}\n",
    "\n",
    "model.fit(X_train, y_train, class_weight=class_weight, epochs=5)"
   ]
  },
  {
   "cell_type": "code",
   "execution_count": 11,
   "metadata": {},
   "outputs": [
    {
     "name": "stdout",
     "output_type": "stream",
     "text": [
      "47/47 [==============================] - 0s 873us/step - loss: 0.7411 - recall: 0.9444 - precision: 0.0942 - accuracy: 0.5533\n"
     ]
    },
    {
     "data": {
      "text/plain": [
       "[0.7410573959350586,\n",
       " 0.9444444179534912,\n",
       " 0.0941828265786171,\n",
       " 0.5532925724983215]"
      ]
     },
     "execution_count": 11,
     "metadata": {},
     "output_type": "execute_result"
    }
   ],
   "source": [
    "# Testing the model\n",
    "model.evaluate(X_test, y_test)\n",
    "\n",
    "# Høy recall -- De fleste som vil få et slag vil få bekjed\n",
    "# Middels accuracy -- Spår bare riktig 50% av gangene\n",
    "# Lav precision -- Vil lage en del falske positive. Hvis testen sier \"du får slag\", så er du\n",
    "# fortsatt bare 10% sannsynlig for å få slag. Er slik feks. mammografi fungerer (med sikkert bedre\n",
    "# tall en jeg får her)"
   ]
  },
  {
   "cell_type": "code",
   "execution_count": null,
   "metadata": {},
   "outputs": [],
   "source": []
  }
 ],
 "metadata": {
  "kernelspec": {
   "display_name": "Python 3",
   "language": "python",
   "name": "python3"
  },
  "language_info": {
   "codemirror_mode": {
    "name": "ipython",
    "version": 3
   },
   "file_extension": ".py",
   "mimetype": "text/x-python",
   "name": "python",
   "nbconvert_exporter": "python",
   "pygments_lexer": "ipython3",
   "version": "3.8.5"
  }
 },
 "nbformat": 4,
 "nbformat_minor": 4
}
