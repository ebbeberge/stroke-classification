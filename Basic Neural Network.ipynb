{
 "cells": [
  {
   "cell_type": "markdown",
   "metadata": {},
   "source": [
    "# Basic Neural Network Approach"
   ]
  },
  {
   "cell_type": "code",
   "execution_count": 1,
   "metadata": {},
   "outputs": [],
   "source": [
    "# Importing libraries\n",
    "import numpy as np\n",
    "import pandas as pd\n",
    "from tensorflow import keras\n",
    "from sklearn.preprocessing import StandardScaler\n",
    "from sklearn.model_selection import train_test_split"
   ]
  },
  {
   "cell_type": "code",
   "execution_count": 2,
   "metadata": {},
   "outputs": [],
   "source": [
    "# Importing the cleaned data\n",
    "stroke_clean = pd.read_csv('stroke_clean.csv', index_col='id')"
   ]
  },
  {
   "cell_type": "code",
   "execution_count": 3,
   "metadata": {},
   "outputs": [],
   "source": [
    "# Do a train-test split\n",
    "X = np.array(stroke_clean.loc[:, stroke_clean.columns != 'stroke'])\n",
    "y = np.array(stroke_clean['stroke'])\n",
    "test_size = 0.3\n",
    "\n",
    "X_train, X_test, y_train, y_test = train_test_split(X, y, test_size=test_size, random_state=42)"
   ]
  },
  {
   "cell_type": "code",
   "execution_count": 4,
   "metadata": {},
   "outputs": [],
   "source": [
    "# Scaling the data\n",
    "scaler = StandardScaler()\n",
    "X_train = scaler.fit_transform(X_train)\n",
    "X_test = scaler.transform(X_test)"
   ]
  },
  {
   "cell_type": "code",
   "execution_count": 5,
   "metadata": {},
   "outputs": [],
   "source": [
    "# Making the layers\n",
    "model = keras.models.Sequential([\n",
    "    keras.layers.Input(shape=[17]),\n",
    "    keras.layers.Dense(100, activation=\"relu\"),\n",
    "    keras.layers.Dropout(rate=0.5),\n",
    "    keras.layers.Dense(100, activation=\"relu\"),\n",
    "    keras.layers.Dropout(rate=0.5),\n",
    "    keras.layers.Dense(1, activation=\"sigmoid\")\n",
    "    ])"
   ]
  },
  {
   "cell_type": "code",
   "execution_count": 6,
   "metadata": {},
   "outputs": [
    {
     "name": "stdout",
     "output_type": "stream",
     "text": [
      "Model: \"sequential\"\n",
      "_________________________________________________________________\n",
      "Layer (type)                 Output Shape              Param #   \n",
      "=================================================================\n",
      "dense (Dense)                (None, 100)               1800      \n",
      "_________________________________________________________________\n",
      "dropout (Dropout)            (None, 100)               0         \n",
      "_________________________________________________________________\n",
      "dense_1 (Dense)              (None, 100)               10100     \n",
      "_________________________________________________________________\n",
      "dropout_1 (Dropout)          (None, 100)               0         \n",
      "_________________________________________________________________\n",
      "dense_2 (Dense)              (None, 1)                 101       \n",
      "=================================================================\n",
      "Total params: 12,001\n",
      "Trainable params: 12,001\n",
      "Non-trainable params: 0\n",
      "_________________________________________________________________\n"
     ]
    }
   ],
   "source": [
    "# Checking out the model\n",
    "model.summary()"
   ]
  },
  {
   "cell_type": "code",
   "execution_count": 7,
   "metadata": {},
   "outputs": [],
   "source": [
    "# Compiling the model\n",
    "model.compile(loss=\"binary_crossentropy\", optimizer=\"sgd\", metrics=[\"accuracy\"])"
   ]
  },
  {
   "cell_type": "code",
   "execution_count": 8,
   "metadata": {},
   "outputs": [
    {
     "name": "stdout",
     "output_type": "stream",
     "text": [
      "Epoch 1/10\n",
      "69/69 [==============================] - 0s 1ms/step - loss: 0.4647 - accuracy: 0.8279\n",
      "Epoch 2/10\n",
      "69/69 [==============================] - 0s 1ms/step - loss: 0.2511 - accuracy: 0.9587\n",
      "Epoch 3/10\n",
      "69/69 [==============================] - 0s 1ms/step - loss: 0.2129 - accuracy: 0.9601\n",
      "Epoch 4/10\n",
      "69/69 [==============================] - 0s 1ms/step - loss: 0.1944 - accuracy: 0.9601\n",
      "Epoch 5/10\n",
      "69/69 [==============================] - 0s 1ms/step - loss: 0.1945 - accuracy: 0.9601\n",
      "Epoch 6/10\n",
      "69/69 [==============================] - 0s 1ms/step - loss: 0.1856 - accuracy: 0.9601\n",
      "Epoch 7/10\n",
      "69/69 [==============================] - 0s 1ms/step - loss: 0.1811 - accuracy: 0.9601\n",
      "Epoch 8/10\n",
      "69/69 [==============================] - 0s 1ms/step - loss: 0.1800 - accuracy: 0.9601\n",
      "Epoch 9/10\n",
      "69/69 [==============================] - 0s 1ms/step - loss: 0.1764 - accuracy: 0.9601\n",
      "Epoch 10/10\n",
      "69/69 [==============================] - 0s 1ms/step - loss: 0.1703 - accuracy: 0.9601\n"
     ]
    },
    {
     "data": {
      "text/plain": [
       "<tensorflow.python.keras.callbacks.History at 0x1fefdbade50>"
      ]
     },
     "execution_count": 8,
     "metadata": {},
     "output_type": "execute_result"
    }
   ],
   "source": [
    "# Fitting the model\n",
    "model.fit(X_train, y_train, epochs=10, batch_size=50)"
   ]
  },
  {
   "cell_type": "code",
   "execution_count": 9,
   "metadata": {},
   "outputs": [
    {
     "name": "stdout",
     "output_type": "stream",
     "text": [
      "47/47 [==============================] - 0s 855us/step - loss: 0.1778 - accuracy: 0.9511\n"
     ]
    },
    {
     "data": {
      "text/plain": [
       "[0.1777554601430893, 0.951120138168335]"
      ]
     },
     "execution_count": 9,
     "metadata": {},
     "output_type": "execute_result"
    }
   ],
   "source": [
    "# Testing the model\n",
    "model.evaluate(X_test, y_test) # Er dårligere enn Martin sin logistisk regresjon :("
   ]
  }
 ],
 "metadata": {
  "kernelspec": {
   "display_name": "Python 3",
   "language": "python",
   "name": "python3"
  },
  "language_info": {
   "codemirror_mode": {
    "name": "ipython",
    "version": 3
   },
   "file_extension": ".py",
   "mimetype": "text/x-python",
   "name": "python",
   "nbconvert_exporter": "python",
   "pygments_lexer": "ipython3",
   "version": "3.8.5"
  }
 },
 "nbformat": 4,
 "nbformat_minor": 4
}
