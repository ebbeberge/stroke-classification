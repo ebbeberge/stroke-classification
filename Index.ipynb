{
 "cells": [
  {
   "cell_type": "markdown",
   "metadata": {},
   "source": [
    "# Stroke Prediction\n",
    "#### Using Deep Neural Networks, Three-Based Metods, and Explainable AI\n",
    "\n",
    "by ```Eirik Berge```, ```Camilla Idina Jensen Elvebakken```, and ```Martin Ludvigsen```."
   ]
  },
  {
   "cell_type": "markdown",
   "metadata": {},
   "source": [
    "## Informaiton About the Data\n",
    "\n",
    "Stroke is the 2nd leading cause of death globally, and is a disease that affects millions of people every year:\n",
    "\n",
    "<a href=https://en.wikipedia.org/wiki/Stroke>Wikipedia - Stroke </a>\n",
    "\n",
    "In this project, we will attempt to classify stroke patients using a dataset provided on Kaggle: \n",
    "\n",
    "<a href=https://www.kaggle.com/fedesoriano/stroke-prediction-dataset >Kaggle Stroke Dataset</a>\n",
    "\n",
    "The dataset consists of over $5000$ individuals and $10$ different input variables that we will use to predict the risk of stroke. The input variables are both numerical and categorical and will be explained below. Some input variables are known risk factors for stroke, like hypertension <a href=https://en.wikipedia.org/wiki/Hypertension>Hyptertension</a> (high blood pressure) and smoking status. In addition, the data set includes some variables that may not traditionally be considered as risk factors: work type and residence type. \n",
    "\n",
    "The source and collection methods for the dataset is confidential. In particular, we do not know which countries the participants come from, or if the data originates from medical records or somewhere else. This is problematic as many of the variables are categorical, and it is unclear exactly how the categories were determined or if the different categories were measured at the same time. Notably, it is not clear what type of stroke the dataset is concerned with. One usually subdivides stroke into two categories: Ischemic stroke, which is when the blood supply to the brain is interrupted, and hemorrhagic stroke, which is in part caused by rupturing blood vessels. The fact that the source of the data is confidential also makes it difficult to assess the quality of the data. Another problem with the data is that it is very unbalanced, as there are many more patients without stroke than with stroke. We will attempt to tackle some of these problems in this report.\n",
    "\n",
    "In this report we will mainly attempt different tree-based methods like random forests and boosting and simple neural networks. We will also spend some time exploring parameter tuning, where we will attempt both gridsearch and Bayesian optimization in order to locate optimal hyperparameters. "
   ]
  },
  {
   "cell_type": "markdown",
   "metadata": {},
   "source": [
    "## More on the Different Variables\n",
    "The dataset contains the following data:\n",
    "\n",
    "- ```id``` - Integer\n",
    "- ```gender``` - Categorical: ```male```, ```female``` or ```other```\n",
    "- ```age``` - Float\n",
    "- ```hypertension``` - Categorical: ```1``` or ```0```\n",
    "- ```heart_disease``` - Categorical: ```1``` or ```0```\n",
    "- ```ever_married``` - Categorical: ```1``` or ```0```\n",
    "- ```work_type``` - Categorical: ```Private```, ```Self-employed```, ```Govt-job```, ```Never_worked```, ```children```\n",
    "- ```Residence_type``` - Categorical: ```Urban```, ```Rural```\n",
    "- ```avg_glucose_level``` - Float\n",
    "- ```bmi``` - Float\n",
    "- ```smoking_status``` - Categorical: ```never smoked```, ```formerly smoked```, ```smoking```, ```unknown```\n",
    "- ```stroke``` - Categorical: ```1``` or ```0```\n",
    "\n",
    "The variable ```hypertension``` is given as a categorical variable instead of a numerical value containing systolic and diastolic blood pressures. What is considered hypertension depends on age, so having hypertension as a categorical variable might remove the dependency between blood pressure and age, which can make it easier to fit useful models. However, we do not know if hypertensionis determined in a consistent way for all patients, and whether having blood pressure as a float would be more useful. For both hypertension and heart disease, we have no information about the severity of the condition, which is a downside of having only two categorical variables.\n",
    "\n",
    "On the contrary, ```avg_glucose_level``` and ```bmi``` are given as floats, whereas they could have been encoded as categorical variables like hyperglycemia (<a href=https://en.wikipedia.org/wiki/Hyperglycemia>Wikipedia - Hyperglycemia</a>) and different stages of underweight/overweight, which differs based on age and gender. \n",
    "\n",
    "As for ```stroke```, we have no information about what type of stroke the patient suffered from, as we have already mentioned. In addition, we do not have information about the severity of the stroke, or if the patient died directly or indirectly from the stroke.\n",
    "\n",
    "For the categorical variables ```work_type```, ```ever_married```, ```Residence_type```, and ```smoking_status```, it is uncertain if the categories yield anything more than noise, and if they are useful for predicting stroke. In particular, the categories are not particularly sharp. For example, we do not know the \"boundary\" between urban and rural residence, or if the patient is currently employed or how long they have been in their current line of work. Smoking status is the only one of these variables that are known to be an important risk factor for stroke. It is therefore problematic that one of the ```smoking_status``` categories is ```unknown```. Keeping the data where smoking status is unknown adds more noise to our data, which can make fitted models less effective. We have a few options for handling this:\n",
    "\n",
    "- We could remove all the data where smoking status is unknown, which should not be problematic if relatively few patients have unknown smoking status. \n",
    "\n",
    "- We could remove the smoking status variable altogether from all patients, which might be helpful if smoking status proves to be noisy.\n",
    "\n",
    "- We could keep the data as is, and hope the added information of smoking status for some patients outweighs the noise of the patients where smoking status is unknown.\n",
    "\n",
    "In this report, we choose the last approach. If anything, the problems with the data illustrate the importance of high-quality data collection. "
   ]
  },
  {
   "cell_type": "markdown",
   "metadata": {},
   "source": [
    "## Importing Packages"
   ]
  },
  {
   "cell_type": "markdown",
   "metadata": {},
   "source": [
    "We are going to use various packages, and import them collectively here for convenience."
   ]
  },
  {
   "cell_type": "code",
   "execution_count": 67,
   "metadata": {},
   "outputs": [],
   "source": [
    "# Data Handeling\n",
    "import numpy as np\n",
    "import pandas as pd\n",
    "\n",
    "# Visualizations\n",
    "import seaborn as sns\n",
    "import matplotlib.pyplot as plt\n",
    "\n",
    "# Basic Machine Learning\n",
    "import xgboost as xgb\n",
    "from sklearn.linear_model import LogisticRegression, LogisticRegressionCV\n",
    "from sklearn.model_selection import train_test_split, GridSearchCV\n",
    "from sklearn.preprocessing import StandardScaler\n",
    "from sklearn.tree import DecisionTreeClassifier\n",
    "from sklearn.metrics import (accuracy_score, f1_score, precision_score, recall_score, roc_auc_score, roc_curve,\n",
    "                             auc, precision_recall_curve, make_scorer, confusion_matrix, plot_roc_curve)\n",
    "# Deep Learning\n",
    "from tensorflow import keras\n",
    "from tensorflow.keras.optimizers import SGD"
   ]
  },
  {
   "cell_type": "markdown",
   "metadata": {},
   "source": [
    "## Cleaning the Data"
   ]
  },
  {
   "cell_type": "markdown",
   "metadata": {},
   "source": [
    "We start by cleaning the data and we create dummy variables for some of the variables in the dataset. The data is finally stored in a new CSV-file called ```stroke_clean.csv```."
   ]
  },
  {
   "cell_type": "code",
   "execution_count": 2,
   "metadata": {},
   "outputs": [
    {
     "data": {
      "text/html": [
       "<div>\n",
       "<style scoped>\n",
       "    .dataframe tbody tr th:only-of-type {\n",
       "        vertical-align: middle;\n",
       "    }\n",
       "\n",
       "    .dataframe tbody tr th {\n",
       "        vertical-align: top;\n",
       "    }\n",
       "\n",
       "    .dataframe thead th {\n",
       "        text-align: right;\n",
       "    }\n",
       "</style>\n",
       "<table border=\"1\" class=\"dataframe\">\n",
       "  <thead>\n",
       "    <tr style=\"text-align: right;\">\n",
       "      <th></th>\n",
       "      <th>id</th>\n",
       "      <th>gender</th>\n",
       "      <th>age</th>\n",
       "      <th>hypertension</th>\n",
       "      <th>heart_disease</th>\n",
       "      <th>ever_married</th>\n",
       "      <th>work_type</th>\n",
       "      <th>Residence_type</th>\n",
       "      <th>avg_glucose_level</th>\n",
       "      <th>bmi</th>\n",
       "      <th>smoking_status</th>\n",
       "      <th>stroke</th>\n",
       "    </tr>\n",
       "  </thead>\n",
       "  <tbody>\n",
       "    <tr>\n",
       "      <th>0</th>\n",
       "      <td>9046</td>\n",
       "      <td>Male</td>\n",
       "      <td>67.0</td>\n",
       "      <td>0</td>\n",
       "      <td>1</td>\n",
       "      <td>Yes</td>\n",
       "      <td>Private</td>\n",
       "      <td>Urban</td>\n",
       "      <td>228.69</td>\n",
       "      <td>36.6</td>\n",
       "      <td>formerly smoked</td>\n",
       "      <td>1</td>\n",
       "    </tr>\n",
       "    <tr>\n",
       "      <th>1</th>\n",
       "      <td>51676</td>\n",
       "      <td>Female</td>\n",
       "      <td>61.0</td>\n",
       "      <td>0</td>\n",
       "      <td>0</td>\n",
       "      <td>Yes</td>\n",
       "      <td>Self-employed</td>\n",
       "      <td>Rural</td>\n",
       "      <td>202.21</td>\n",
       "      <td>NaN</td>\n",
       "      <td>never smoked</td>\n",
       "      <td>1</td>\n",
       "    </tr>\n",
       "    <tr>\n",
       "      <th>2</th>\n",
       "      <td>31112</td>\n",
       "      <td>Male</td>\n",
       "      <td>80.0</td>\n",
       "      <td>0</td>\n",
       "      <td>1</td>\n",
       "      <td>Yes</td>\n",
       "      <td>Private</td>\n",
       "      <td>Rural</td>\n",
       "      <td>105.92</td>\n",
       "      <td>32.5</td>\n",
       "      <td>never smoked</td>\n",
       "      <td>1</td>\n",
       "    </tr>\n",
       "  </tbody>\n",
       "</table>\n",
       "</div>"
      ],
      "text/plain": [
       "      id  gender   age  hypertension  heart_disease ever_married  \\\n",
       "0   9046    Male  67.0             0              1          Yes   \n",
       "1  51676  Female  61.0             0              0          Yes   \n",
       "2  31112    Male  80.0             0              1          Yes   \n",
       "\n",
       "       work_type Residence_type  avg_glucose_level   bmi   smoking_status  \\\n",
       "0        Private          Urban             228.69  36.6  formerly smoked   \n",
       "1  Self-employed          Rural             202.21   NaN     never smoked   \n",
       "2        Private          Rural             105.92  32.5     never smoked   \n",
       "\n",
       "   stroke  \n",
       "0       1  \n",
       "1       1  \n",
       "2       1  "
      ]
     },
     "execution_count": 2,
     "metadata": {},
     "output_type": "execute_result"
    }
   ],
   "source": [
    "# Loading in the dataset with Pandas\n",
    "stroke = pd.read_csv('stroke.csv')\n",
    "\n",
    "# View the first 3 rows of the dataset\n",
    "stroke.head(3)"
   ]
  },
  {
   "cell_type": "markdown",
   "metadata": {},
   "source": [
    "There is already an ```id``` column, so there is no need for a separate index. Hence we make the ```id``` column the index of the dataframe."
   ]
  },
  {
   "cell_type": "code",
   "execution_count": 3,
   "metadata": {},
   "outputs": [],
   "source": [
    "# Make the id column the index of the DataFrame\n",
    "stroke.index = stroke['id']\n",
    "del stroke['id']\n",
    "\n",
    "# Make all the column names lowercase\n",
    "stroke.columns = stroke.columns.str.lower()"
   ]
  },
  {
   "cell_type": "markdown",
   "metadata": {},
   "source": [
    "The following cell shows that there are some missing values in the ```bmi``` column. Since this is only roughly 4% of the observables, we remove these persons completely."
   ]
  },
  {
   "cell_type": "code",
   "execution_count": 4,
   "metadata": {},
   "outputs": [
    {
     "name": "stdout",
     "output_type": "stream",
     "text": [
      "gender               False\n",
      "age                  False\n",
      "hypertension         False\n",
      "heart_disease        False\n",
      "ever_married         False\n",
      "work_type            False\n",
      "residence_type       False\n",
      "avg_glucose_level    False\n",
      "bmi                   True\n",
      "smoking_status       False\n",
      "stroke               False\n",
      "dtype: bool\n",
      "\n",
      "There are 201 missing values in the bmi column\n",
      "\n",
      "<class 'pandas.core.frame.DataFrame'>\n",
      "Int64Index: 4909 entries, 9046 to 44679\n",
      "Data columns (total 11 columns):\n",
      " #   Column             Non-Null Count  Dtype  \n",
      "---  ------             --------------  -----  \n",
      " 0   gender             4909 non-null   object \n",
      " 1   age                4909 non-null   float64\n",
      " 2   hypertension       4909 non-null   int64  \n",
      " 3   heart_disease      4909 non-null   int64  \n",
      " 4   ever_married       4909 non-null   object \n",
      " 5   work_type          4909 non-null   object \n",
      " 6   residence_type     4909 non-null   object \n",
      " 7   avg_glucose_level  4909 non-null   float64\n",
      " 8   bmi                4909 non-null   float64\n",
      " 9   smoking_status     4909 non-null   object \n",
      " 10  stroke             4909 non-null   int64  \n",
      "dtypes: float64(3), int64(3), object(5)\n",
      "memory usage: 460.2+ KB\n",
      "None\n"
     ]
    }
   ],
   "source": [
    "# Find out where the are missing values\n",
    "print(stroke.isnull().any())\n",
    "\n",
    "# Determine the number of missing values\n",
    "missing_values = stroke['bmi'].isnull().sum()\n",
    "print(f'\\nThere are {missing_values} missing values in the bmi column\\n')\n",
    "\n",
    "# Drop the rows with the missing values\n",
    "stroke.dropna(inplace=True)\n",
    "\n",
    "# Check out the datatypes of the data\n",
    "print(stroke.info())"
   ]
  },
  {
   "cell_type": "markdown",
   "metadata": {},
   "source": [
    "We also see that the columns ```gender```, ```ever_married```, ```work_type```, ```residence_type```, and ```smoking_status``` are of data type <i>object</i>. Let us investigate these columns to see if it is reasonable to convert them to a numeric format."
   ]
  },
  {
   "cell_type": "markdown",
   "metadata": {},
   "source": [
    "### Gender"
   ]
  },
  {
   "cell_type": "code",
   "execution_count": 5,
   "metadata": {},
   "outputs": [
    {
     "data": {
      "text/plain": [
       "Female    2897\n",
       "Male      2011\n",
       "Other        1\n",
       "Name: gender, dtype: int64"
      ]
     },
     "execution_count": 5,
     "metadata": {},
     "output_type": "execute_result"
    }
   ],
   "source": [
    "# Check the values present in the gender column\n",
    "stroke['gender'].value_counts()"
   ]
  },
  {
   "cell_type": "markdown",
   "metadata": {},
   "source": [
    "Since there is only one <i>Other</i>, this will not give us anything statistically significant. "
   ]
  },
  {
   "cell_type": "code",
   "execution_count": 6,
   "metadata": {},
   "outputs": [],
   "source": [
    "# Removal of \"other\"\n",
    "stroke.drop(stroke[stroke['gender'] == 'Other'].index[0], inplace=True)\n",
    "\n",
    "# Do a dummy encoding of the genders\n",
    "stroke['gender'].replace({'Female': 1, 'Male': 0}, inplace=True)"
   ]
  },
  {
   "cell_type": "markdown",
   "metadata": {},
   "source": [
    "It is interesting to note that more men than women had strokes, even though the average age of women in the study is higher than men."
   ]
  },
  {
   "cell_type": "code",
   "execution_count": 7,
   "metadata": {},
   "outputs": [
    {
     "data": {
      "text/html": [
       "<div>\n",
       "<style scoped>\n",
       "    .dataframe tbody tr th:only-of-type {\n",
       "        vertical-align: middle;\n",
       "    }\n",
       "\n",
       "    .dataframe tbody tr th {\n",
       "        vertical-align: top;\n",
       "    }\n",
       "\n",
       "    .dataframe thead th {\n",
       "        text-align: right;\n",
       "    }\n",
       "</style>\n",
       "<table border=\"1\" class=\"dataframe\">\n",
       "  <thead>\n",
       "    <tr style=\"text-align: right;\">\n",
       "      <th></th>\n",
       "      <th>age</th>\n",
       "      <th>stroke</th>\n",
       "    </tr>\n",
       "    <tr>\n",
       "      <th>gender</th>\n",
       "      <th></th>\n",
       "      <th></th>\n",
       "    </tr>\n",
       "  </thead>\n",
       "  <tbody>\n",
       "    <tr>\n",
       "      <th>0</th>\n",
       "      <td>42.049130</td>\n",
       "      <td>0.044257</td>\n",
       "    </tr>\n",
       "    <tr>\n",
       "      <th>1</th>\n",
       "      <td>43.437805</td>\n",
       "      <td>0.041422</td>\n",
       "    </tr>\n",
       "  </tbody>\n",
       "</table>\n",
       "</div>"
      ],
      "text/plain": [
       "              age    stroke\n",
       "gender                     \n",
       "0       42.049130  0.044257\n",
       "1       43.437805  0.041422"
      ]
     },
     "execution_count": 7,
     "metadata": {},
     "output_type": "execute_result"
    }
   ],
   "source": [
    "# More men than women had strokes\n",
    "stroke.groupby('gender').mean()[['age', 'stroke']]"
   ]
  },
  {
   "cell_type": "markdown",
   "metadata": {},
   "source": [
    "### Ever Married"
   ]
  },
  {
   "cell_type": "code",
   "execution_count": 8,
   "metadata": {},
   "outputs": [
    {
     "data": {
      "text/plain": [
       "Yes    3204\n",
       "No     1704\n",
       "Name: ever_married, dtype: int64"
      ]
     },
     "execution_count": 8,
     "metadata": {},
     "output_type": "execute_result"
    }
   ],
   "source": [
    "# Check the values present in the ever_married column\n",
    "stroke['ever_married'].value_counts()"
   ]
  },
  {
   "cell_type": "markdown",
   "metadata": {},
   "source": [
    "Here we only have two categories, and we perform a dummy encoding."
   ]
  },
  {
   "cell_type": "code",
   "execution_count": 9,
   "metadata": {},
   "outputs": [],
   "source": [
    "# Do a dummy encoding of the ever_married column\n",
    "stroke['ever_married'].replace({'Yes': 1, 'No': 0}, inplace=True)"
   ]
  },
  {
   "cell_type": "markdown",
   "metadata": {},
   "source": [
    "### Work Type"
   ]
  },
  {
   "cell_type": "code",
   "execution_count": 10,
   "metadata": {},
   "outputs": [
    {
     "data": {
      "text/plain": [
       "Private          2810\n",
       "Self-employed     775\n",
       "children          671\n",
       "Govt_job          630\n",
       "Never_worked       22\n",
       "Name: work_type, dtype: int64"
      ]
     },
     "execution_count": 10,
     "metadata": {},
     "output_type": "execute_result"
    }
   ],
   "source": [
    "# Check the values present in the ever_married column\n",
    "stroke['work_type'].value_counts()"
   ]
  },
  {
   "cell_type": "markdown",
   "metadata": {},
   "source": [
    "Since there are 5 categories, we dummy encode them into new columns."
   ]
  },
  {
   "cell_type": "code",
   "execution_count": 11,
   "metadata": {},
   "outputs": [],
   "source": [
    "# Dummy encoding into 5 columns\n",
    "dummy_variables = pd.get_dummies(stroke['work_type'])\n",
    "del stroke['work_type']\n",
    " \n",
    "# Assign new columns to the dataframe\n",
    "stroke['govt_job'] = dummy_variables['Govt_job']\n",
    "stroke['never_worked'] = dummy_variables['Never_worked']\n",
    "stroke['private'] = dummy_variables['Private']\n",
    "stroke['self-employed'] = dummy_variables['Self-employed']\n",
    "stroke['children'] = dummy_variables['children']"
   ]
  },
  {
   "cell_type": "markdown",
   "metadata": {},
   "source": [
    "### Residence Type"
   ]
  },
  {
   "cell_type": "code",
   "execution_count": 12,
   "metadata": {},
   "outputs": [
    {
     "data": {
      "text/plain": [
       "Urban    2490\n",
       "Rural    2418\n",
       "Name: residence_type, dtype: int64"
      ]
     },
     "execution_count": 12,
     "metadata": {},
     "output_type": "execute_result"
    }
   ],
   "source": [
    "# Check the values present in the residence_type column\n",
    "stroke['residence_type'].value_counts()"
   ]
  },
  {
   "cell_type": "markdown",
   "metadata": {},
   "source": [
    "There are two categories with very similar amounts. We again perform a dummy encoding."
   ]
  },
  {
   "cell_type": "code",
   "execution_count": 13,
   "metadata": {},
   "outputs": [],
   "source": [
    "# Do a dummy encoding of the residence_type column\n",
    "stroke['residence_type'].replace({'Urban': 1, 'Rural': 0}, inplace=True)"
   ]
  },
  {
   "cell_type": "markdown",
   "metadata": {},
   "source": [
    "### Smoking Status"
   ]
  },
  {
   "cell_type": "code",
   "execution_count": 14,
   "metadata": {},
   "outputs": [
    {
     "data": {
      "text/plain": [
       "never smoked       1852\n",
       "Unknown            1483\n",
       "formerly smoked     836\n",
       "smokes              737\n",
       "Name: smoking_status, dtype: int64"
      ]
     },
     "execution_count": 14,
     "metadata": {},
     "output_type": "execute_result"
    }
   ],
   "source": [
    "# Check the values present in the smoking_status column\n",
    "stroke['smoking_status'].value_counts()"
   ]
  },
  {
   "cell_type": "markdown",
   "metadata": {},
   "source": [
    "Notice that for a lot of the smoker, we only have the status <i>Unknown</i> to work with. Since there is so many of them, we have chosen to not drop the observables. We again perform a dummy encoding."
   ]
  },
  {
   "cell_type": "code",
   "execution_count": 15,
   "metadata": {},
   "outputs": [],
   "source": [
    "# Dummy encoding into 4 columns\n",
    "dummy_variables = pd.get_dummies(stroke['smoking_status'])\n",
    "del stroke['smoking_status']\n",
    "\n",
    "# Assign new columns to the dataframe\n",
    "stroke['never_smoked'] = dummy_variables['never smoked']\n",
    "stroke['formerly_smoked'] = dummy_variables['formerly smoked']\n",
    "stroke['smokes'] = dummy_variables['smokes']\n",
    "stroke['unknown_smoker'] = dummy_variables['Unknown']"
   ]
  },
  {
   "cell_type": "markdown",
   "metadata": {},
   "source": [
    "Finally, we reorder the columns so that ```stroke```, namely the variable we try to predict, is last."
   ]
  },
  {
   "cell_type": "code",
   "execution_count": 16,
   "metadata": {},
   "outputs": [],
   "source": [
    "# Reordering columns\n",
    "labels = list(stroke.columns)\n",
    "labels.append('stroke')\n",
    "del labels[8]\n",
    "stroke = stroke.reindex(columns=labels)"
   ]
  },
  {
   "cell_type": "markdown",
   "metadata": {},
   "source": [
    "We save the cleaned data in a CSV file called ```stroke_clean.csv```."
   ]
  },
  {
   "cell_type": "code",
   "execution_count": 17,
   "metadata": {},
   "outputs": [],
   "source": [
    "# Saving the data.\n",
    "stroke.to_csv('stroke_clean.csv')"
   ]
  },
  {
   "cell_type": "markdown",
   "metadata": {},
   "source": [
    "## Exploratory Data Analysis"
   ]
  },
  {
   "cell_type": "markdown",
   "metadata": {},
   "source": [
    "Before we start to develop various models, we explore the data to find trends and skewness to keep in mind later. Let us first see how many of the patients have had a stroke:"
   ]
  },
  {
   "cell_type": "code",
   "execution_count": 31,
   "metadata": {},
   "outputs": [
    {
     "name": "stdout",
     "output_type": "stream",
     "text": [
      "Percentage of stroke:  4.26 %\n",
      "Percentage of non-stroke:  95.74 %\n"
     ]
    }
   ],
   "source": [
    "# Loading back in the cleaned data\n",
    "stroke_clean = pd.read_csv('stroke_clean.csv', index_col='id')\n",
    "\n",
    "# Printing out stroke-percentages\n",
    "print(\"Percentage of stroke: \", np.round((stroke_clean[stroke_clean.stroke == 1].shape[0]/stroke_clean.shape[0]) * 100, 2), \"%\")\n",
    "print(\"Percentage of non-stroke: \", np.round((stroke_clean[stroke_clean.stroke == 0].shape[0]/(stroke_clean.shape[0]) * 100), 2), \"%\")"
   ]
  },
  {
   "cell_type": "markdown",
   "metadata": {},
   "source": [
    "As we can see above, about 95.7% have not had a stroke. We see that the class distribution is very skewed, which will make this a hard problem, as the model must be sensitive enough to capture the trends of the minority class. We try looking at the stroke distribution among some of the other features in the dataset. "
   ]
  },
  {
   "cell_type": "code",
   "execution_count": 37,
   "metadata": {},
   "outputs": [
    {
     "data": {
      "text/plain": [
       "Text(0.5, 1.0, 'Age/stroke distribution')"
      ]
     },
     "execution_count": 37,
     "metadata": {},
     "output_type": "execute_result"
    },
    {
     "data": {
      "image/png": "[encoded data removed]",
      "text/plain": [
       "<Figure size 432x288 with 1 Axes>"
      ]
     },
     "metadata": {
      "needs_background": "light"
     },
     "output_type": "display_data"
    }
   ],
   "source": [
    "# Visualize the age of people with stroke versus people without stroke\n",
    "sns.histplot(\n",
    "    data = stroke_clean,\n",
    "    x=\"age\", \n",
    "    hue=\"stroke\", \n",
    "    multiple=\"dodge\"\n",
    ").set_title(\"Age/stroke distribution\")"
   ]
  },
  {
   "cell_type": "markdown",
   "metadata": {},
   "source": [
    "We see that more old people than young people have strokes, while we seem to have a good representation of all ages in the dataset. Hence it seems that ```age``` will be an important predictor for predicting ```stroke```.\n",
    "\n",
    "For the ```smoker``` variable, we have pointed out previously that we are lacking some information due to the <i>Unknown</i> option. We now display how many we are missing"
   ]
  },
  {
   "cell_type": "code",
   "execution_count": 35,
   "metadata": {},
   "outputs": [
    {
     "data": {
      "image/png": "[encoded data removed]",
      "text/plain": [
       "<Figure size 432x288 with 1 Axes>"
      ]
     },
     "metadata": {
      "needs_background": "light"
     },
     "output_type": "display_data"
    }
   ],
   "source": [
    "# Show how much information we have about smokers.\n",
    "information_about_smoker = np.where(stroke_clean.unknown_smoker == 1, \"unknown smoker\", \"information about smoking\")\n",
    "sns.histplot(data=information_about_smoker)\n",
    "plt.show()"
   ]
  },
  {
   "cell_type": "markdown",
   "metadata": {},
   "source": [
    "We see that almost one third of our data has smoking status unknown. This is a lot of data, so we coose to include the data with unkown smoking status in our analysis. \n",
    "\n",
    "We end this section by showing a heatmap of the correlation between the different variables."
   ]
  },
  {
   "cell_type": "code",
   "execution_count": 40,
   "metadata": {},
   "outputs": [
    {
     "data": {
      "image/png": "[encoded data removed]",
      "text/plain": [
       "<Figure size 432x288 with 2 Axes>"
      ]
     },
     "metadata": {
      "needs_background": "light"
     },
     "output_type": "display_data"
    }
   ],
   "source": [
    "# Correlation heatmap\n",
    "sns.heatmap(stroke_clean.corr())\n",
    "plt.show()"
   ]
  },
  {
   "cell_type": "markdown",
   "metadata": {},
   "source": [
    "We see from the heatmap above that the response ```stroke``` does not seems particularily correlated with any of the predictors. Thus the choice of non-linear models such as ensembles and neural networks is well motivated."
   ]
  },
  {
   "cell_type": "markdown",
   "metadata": {},
   "source": [
    "## Utility Functions"
   ]
  },
  {
   "cell_type": "markdown",
   "metadata": {},
   "source": [
    "Below we define three utility functions that we will use over and over again later in the document:"
   ]
  },
  {
   "cell_type": "code",
   "execution_count": 56,
   "metadata": {},
   "outputs": [],
   "source": [
    "# Necessary functions for evaluating models\n",
    "def curves(model_fit, x_test, y_test):\n",
    "    baseline_probs = [0 for _ in range(len(y_test))]\n",
    "    probs = model_fit.predict_proba(x_test)[:, 1]\n",
    "\n",
    "    # calculate scores\n",
    "    baseline_auc = roc_auc_score(y_test, baseline_probs)\n",
    "    pc_auc = roc_auc_score(y_test, probs)\n",
    "\n",
    "    # calculate roc curves\n",
    "    baseline_fpr, baseline_tpr, _ = roc_curve(y_test, baseline_probs)\n",
    "    fpr, tpr, thresholds = roc_curve(y_test, probs, drop_intermediate = False)\n",
    "    \n",
    "    fig, axs = plt.subplots(1, 2, figsize=(13, 5))\n",
    "    \n",
    "    axs[0].plot(baseline_fpr, baseline_tpr, linestyle = \"--\", color = \"lightgrey\")\n",
    "    axs[0].plot(fpr, tpr, marker = \".\", label = \"ROC AUC=%.3f\" % (pc_auc), color = \"orange\")\n",
    "    axs[0].set_xlabel(\"False Positive Rate\")\n",
    "    axs[0].set_ylabel(\"True Positive Rate\")\n",
    "    axs[0].set_title(\"ROC Curve\")\n",
    "    axs[0].legend()\n",
    "    \n",
    "    # Calculating precision-recall curves\n",
    "    probs = model_fit.predict_proba(x_test)[:, 1]\n",
    "    \n",
    "    # predict class values\n",
    "    precision, recall, _ = precision_recall_curve(y_test, probs)\n",
    "    no_skill = len(y_test[y_test==1]) / len(y_test)\n",
    "    \n",
    "    yhat = model_fit.predict(x_test)\n",
    "    model_f1, model_auc = f1_score(y_test, yhat), auc(recall, precision)\n",
    "    \n",
    "    axs[1].plot([0, 1], [no_skill, no_skill], linestyle='--', color = \"lightgray\")\n",
    "    axs[1].plot(recall, precision, marker=\".\", label=\"f1=%.3f auc=%.3f\" % (model_f1, model_auc), color = \"orange\")\n",
    "    axs[1].set_xlabel(\"Recall\")\n",
    "    axs[1].set_ylabel(\"Precision\")\n",
    "    axs[1].set_title(\"Precision-Recall Curve\")\n",
    "    axs[1].legend()\n",
    "    \n",
    "    plt.show()\n",
    "\n",
    "def train_error(model_fit, X_train, y_train):\n",
    "    train_pred = model_fit.predict(X_train)\n",
    "\n",
    "    print(\"Train errors:\")\n",
    "    print()\n",
    "    print(\"accuracy: %.3f\" % accuracy_score(y_train, train_pred))\n",
    "    print(\"precision: %.3f\" % precision_score(y_train, train_pred, zero_division = 0))\n",
    "    print(\"recall: %.3f\" % recall_score(y_train, train_pred, zero_division = 0))\n",
    "    print(\"f1: %.3f\" % f1_score(y_train, train_pred, zero_division = 0))\n",
    "    print()\n",
    "    \n",
    "def test_error(model_fit, X_test, y_test):\n",
    "    test_pred = model_fit.predict(X_test)\n",
    "\n",
    "    print(\"Test errors:\")\n",
    "    print()\n",
    "    print(\"accuracy: %.3f\" % accuracy_score(y_test, test_pred))\n",
    "    print(\"precision: %.3f\" % precision_score(y_test, test_pred, zero_division = 0))\n",
    "    print(\"recall: %.3f\" % recall_score(y_test, test_pred, zero_division = 0))\n",
    "    print(\"f1: %.3f\" % f1_score(y_test, test_pred, zero_division = 0))\n",
    "\n",
    "    cm_test = confusion_matrix(y_test, test_pred)\n",
    "    group_names = [\"TN\", \"FP\", \"FN\", \"TP\"]\n",
    "    group_counts = [\"{0:0.0f}\".format(value) for value in cm_test.flatten()]\n",
    "    labels = [f\"{v1}\\n{v2}\" for v1, v2 in zip(group_names, group_counts)]\n",
    "    labels = np.asarray(labels).reshape(2,2)\n",
    "    sns.heatmap(cm_test, annot=labels, fmt = \"\", annot_kws={\"size\": 16}, linewidths = 0.5, cmap=\"YlGnBu\")"
   ]
  },
  {
   "cell_type": "markdown",
   "metadata": {},
   "source": [
    "## Two Simple Models"
   ]
  },
  {
   "cell_type": "markdown",
   "metadata": {},
   "source": [
    "To benchmark more complicated models, we have chosen to start with two simple models: A logistic regression model and a simple deep neural network. Let us begin by splitting the data:"
   ]
  },
  {
   "cell_type": "code",
   "execution_count": 59,
   "metadata": {},
   "outputs": [],
   "source": [
    "# Split into data and response\n",
    "predictors = stroke_clean.drop('stroke', axis = 1)\n",
    "response = stroke_clean.stroke\n",
    "\n",
    "# Split into training and testing sets\n",
    "X_train, X_test, y_train, y_test = train_test_split(\n",
    "    predictors, \n",
    "    response, \n",
    "    test_size=0.25,\n",
    "    random_state=0\n",
    ")"
   ]
  },
  {
   "cell_type": "markdown",
   "metadata": {},
   "source": [
    "### Logistic Regression (with Ridge Penalty)"
   ]
  },
  {
   "cell_type": "markdown",
   "metadata": {},
   "source": [
    "We use the function ```LogisticRegressionCV``` in the package ```scikit-learn``` to perform a simple logistic regression with Ridge penalty and some cross-validation. We also set the class_weight to <i>balanced</i>. Using the keyword <i>balanced</i> the method will automatically adjust weights which are inversely proportional to the class frequencies in the input data. We will get back to this more with random forests.\n",
    "\n",
    "One of the nice things about logistic regression is that we only need to tune the ridge parameter, which is done done a lot more effectively than the parameter tuning for the other methods."
   ]
  },
  {
   "cell_type": "code",
   "execution_count": 60,
   "metadata": {},
   "outputs": [
    {
     "data": {
      "text/html": [
       "<div>\n",
       "<style scoped>\n",
       "    .dataframe tbody tr th:only-of-type {\n",
       "        vertical-align: middle;\n",
       "    }\n",
       "\n",
       "    .dataframe tbody tr th {\n",
       "        vertical-align: top;\n",
       "    }\n",
       "\n",
       "    .dataframe thead th {\n",
       "        text-align: right;\n",
       "    }\n",
       "</style>\n",
       "<table border=\"1\" class=\"dataframe\">\n",
       "  <thead>\n",
       "    <tr style=\"text-align: right;\">\n",
       "      <th></th>\n",
       "      <th>0</th>\n",
       "      <th>Coefficients</th>\n",
       "    </tr>\n",
       "  </thead>\n",
       "  <tbody>\n",
       "    <tr>\n",
       "      <th>0</th>\n",
       "      <td>gender</td>\n",
       "      <td>0.080224</td>\n",
       "    </tr>\n",
       "    <tr>\n",
       "      <th>1</th>\n",
       "      <td>age</td>\n",
       "      <td>0.079782</td>\n",
       "    </tr>\n",
       "    <tr>\n",
       "      <th>2</th>\n",
       "      <td>hypertension</td>\n",
       "      <td>0.622005</td>\n",
       "    </tr>\n",
       "    <tr>\n",
       "      <th>3</th>\n",
       "      <td>heart_disease</td>\n",
       "      <td>0.243135</td>\n",
       "    </tr>\n",
       "    <tr>\n",
       "      <th>4</th>\n",
       "      <td>ever_married</td>\n",
       "      <td>-0.040349</td>\n",
       "    </tr>\n",
       "  </tbody>\n",
       "</table>\n",
       "</div>"
      ],
      "text/plain": [
       "               0  Coefficients\n",
       "0         gender      0.080224\n",
       "1            age      0.079782\n",
       "2   hypertension      0.622005\n",
       "3  heart_disease      0.243135\n",
       "4   ever_married     -0.040349"
      ]
     },
     "execution_count": 60,
     "metadata": {},
     "output_type": "execute_result"
    }
   ],
   "source": [
    "# Add Ridge regression with parameter chosen by 10-fold CV\n",
    "logregfit = LogisticRegressionCV(random_state=0, max_iter=1000, cv=10, class_weight=\"balanced\").fit(X_train, y_train)\n",
    "\n",
    "# Obtain the coefficients in a table\n",
    "table_of_coefficients = pd.DataFrame(X_train.columns)\n",
    "table_of_coefficients[\"Coefficients\"] = logregfit.coef_.transpose()\n",
    "table_of_coefficients.head()"
   ]
  },
  {
   "cell_type": "markdown",
   "metadata": {},
   "source": [
    "The basic accuray of the logistic model is reported below on both the training set and the test set. As can be seen, we obtain better test accuracy than training accuracy, and both are very high already."
   ]
  },
  {
   "cell_type": "code",
   "execution_count": 61,
   "metadata": {},
   "outputs": [
    {
     "name": "stdout",
     "output_type": "stream",
     "text": [
      "Train accuracy:  0.7462646020103233\n",
      "Test accuracy:  0.7294213528932355\n"
     ]
    }
   ],
   "source": [
    "print(\"Train accuracy: \", logregfit.score(X_train, y_train))\n",
    "print(\"Test accuracy: \", logregfit.score(X_test, y_test))"
   ]
  },
  {
   "cell_type": "markdown",
   "metadata": {},
   "source": [
    "We now plot the ROC curve and the Precision-Recall Curve for the logistic regression."
   ]
  },
  {
   "cell_type": "code",
   "execution_count": 63,
   "metadata": {},
   "outputs": [
    {
     "data": {
      "image/png": "[encoded data removed]",
      "text/plain": [
       "<Figure size 936x360 with 2 Axes>"
      ]
     },
     "metadata": {
      "needs_background": "light"
     },
     "output_type": "display_data"
    },
    {
     "name": "stdout",
     "output_type": "stream",
     "text": [
      "Test errors:\n",
      "\n",
      "accuracy: 0.729\n",
      "precision: 0.112\n",
      "recall: 0.837\n",
      "f1: 0.198\n"
     ]
    },
    {
     "data": {
      "image/png": "[encoded data removed]",
      "text/plain": [
       "<Figure size 432x288 with 2 Axes>"
      ]
     },
     "metadata": {
      "needs_background": "light"
     },
     "output_type": "display_data"
    }
   ],
   "source": [
    "# Plotting the curves\n",
    "curves(logregfit, X_test, y_test)\n",
    "\n",
    "# Displaying test-errors\n",
    "test_error(logregfit, X_test, y_test)"
   ]
  },
  {
   "cell_type": "markdown",
   "metadata": {},
   "source": [
    "Investigating the ROC-curve we see that even when using the \"balanced\" weighting the curve is skewed towards the upper right, indicating that true positives comes heavily at the cost of false positives. This is mainly because our dataset is unbalanced, and we will see this trend for essentially all models."
   ]
  },
  {
   "cell_type": "markdown",
   "metadata": {},
   "source": [
    "### A Simple Deep Neural Network"
   ]
  },
  {
   "cell_type": "markdown",
   "metadata": {},
   "source": [
    "We also investigate the effectiveness of a simple deep neural network. To do this, we use the package ```keras```. We begin by scaling the data and making the various layers in the neural network."
   ]
  },
  {
   "cell_type": "code",
   "execution_count": 22,
   "metadata": {},
   "outputs": [
    {
     "name": "stdout",
     "output_type": "stream",
     "text": [
      "Model: \"sequential\"\n",
      "_________________________________________________________________\n",
      "Layer (type)                 Output Shape              Param #   \n",
      "=================================================================\n",
      "dense (Dense)                (None, 100)               1800      \n",
      "_________________________________________________________________\n",
      "dropout (Dropout)            (None, 100)               0         \n",
      "_________________________________________________________________\n",
      "dense_1 (Dense)              (None, 100)               10100     \n",
      "_________________________________________________________________\n",
      "dropout_1 (Dropout)          (None, 100)               0         \n",
      "_________________________________________________________________\n",
      "dense_2 (Dense)              (None, 1)                 101       \n",
      "=================================================================\n",
      "Total params: 12,001\n",
      "Trainable params: 12,001\n",
      "Non-trainable params: 0\n",
      "_________________________________________________________________\n"
     ]
    }
   ],
   "source": [
    "# Scaling the data\n",
    "scaler = StandardScaler()\n",
    "X_train = scaler.fit_transform(X_train)\n",
    "X_test = scaler.transform(X_test)\n",
    "\n",
    "# Making the layers\n",
    "model = keras.models.Sequential([\n",
    "    keras.layers.Input(shape=[17]),\n",
    "    keras.layers.Dense(100, activation=\"relu\"),\n",
    "    keras.layers.Dropout(rate=0.5),\n",
    "    keras.layers.Dense(100, activation=\"relu\"),\n",
    "    keras.layers.Dropout(rate=0.5),\n",
    "    keras.layers.Dense(1, activation=\"sigmoid\")\n",
    "])\n",
    "\n",
    "# Checking out the model\n",
    "model.summary()"
   ]
  },
  {
   "cell_type": "markdown",
   "metadata": {},
   "source": [
    "Below we compile and fit the neural network. Note that we have made a weight called ```class_weight``` that ensures that the model focus on classifying the true positives correctly, with the understanding that this will most likely cause the false-positive rate to also increase."
   ]
  },
  {
   "cell_type": "code",
   "execution_count": 23,
   "metadata": {},
   "outputs": [
    {
     "name": "stdout",
     "output_type": "stream",
     "text": [
      "Epoch 1/5\n",
      "116/116 [==============================] - 0s 1ms/step - loss: 1.7689 - recall: 0.9062 - precision: 0.0542 - accuracy: 0.3083  \n",
      "Epoch 2/5\n",
      "116/116 [==============================] - 0s 1ms/step - loss: 1.5765 - recall: 0.9375 - precision: 0.0673 - accuracy: 0.4325\n",
      "Epoch 3/5\n",
      "116/116 [==============================] - 0s 1ms/step - loss: 1.4588 - recall: 0.9250 - precision: 0.0764 - accuracy: 0.5107\n",
      "Epoch 4/5\n",
      "116/116 [==============================] - 0s 1ms/step - loss: 1.5279 - recall: 0.9000 - precision: 0.0759 - accuracy: 0.5197\n",
      "Epoch 5/5\n",
      "116/116 [==============================] - 0s 1ms/step - loss: 1.4593 - recall: 0.9312 - precision: 0.0784 - accuracy: 0.5211  \n"
     ]
    },
    {
     "data": {
      "text/plain": [
       "<tensorflow.python.keras.callbacks.History at 0x1fec523d550>"
      ]
     },
     "execution_count": 23,
     "metadata": {},
     "output_type": "execute_result"
    }
   ],
   "source": [
    "# Compiling the model\n",
    "model.compile(\n",
    "    loss=\"binary_crossentropy\",\n",
    "    optimizer='SGD',\n",
    "    metrics=[keras.metrics.Recall(), keras.metrics.Precision(), 'accuracy']\n",
    ")\n",
    "\n",
    "# Choosing a weight\n",
    "class_weight = {0: 1., 1: 50.}\n",
    "\n",
    "# Fitting the model\n",
    "model.fit(X_train, y_train, class_weight=class_weight, epochs=5)"
   ]
  },
  {
   "cell_type": "markdown",
   "metadata": {},
   "source": [
    "We have made a model that emphasizes maximizing recall. This comes, due to the skewness of our data, at the cost of having low accuracy and horrible precision. Such a model can be useful as a preliminary test, where one gets many fasle positves but catches most true positives."
   ]
  },
  {
   "cell_type": "code",
   "execution_count": 42,
   "metadata": {},
   "outputs": [
    {
     "name": "stdout",
     "output_type": "stream",
     "text": [
      "39/39 [==============================] - 0s 997us/step - loss: 0.7636 - recall: 0.9796 - precision: 0.0780 - accuracy: 0.5371\n",
      "\n",
      "Recall:  0.98\n",
      "Precision:  0.078\n",
      "Accuracy:  0.537\n"
     ]
    }
   ],
   "source": [
    "# Testing the model\n",
    "results = model.evaluate(X_test, y_test)\n",
    "\n",
    "print(\"\\nRecall: \", round(results[1], 3))\n",
    "print(\"Precision: \", round(results[2], 3))\n",
    "print(\"Accuracy: \", round(results[3], 3))"
   ]
  },
  {
   "cell_type": "markdown",
   "metadata": {},
   "source": [
    "## Discussion on Evaluating Performance and Hyperparameters"
   ]
  },
  {
   "cell_type": "markdown",
   "metadata": {},
   "source": [
    "### Evaluating Performance"
   ]
  },
  {
   "cell_type": "markdown",
   "metadata": {},
   "source": [
    "The skewness in the data for the response is typical in medical datasets that deals with prediction of rare occurrences like stroke. We will always have many more examples of people without the condition, than with, making it very dificult to correctly identify the general pattern behind the minority class. In addition, with skewed medical datasets like this one, false negative rates and false positive rates do not have equal weight. In our dataset, a false negative will be much more dangerous than a false positive, as it is better to predict that someone will get a stroke and get it wrong, than the other way around.\n",
    "\n",
    "For binary classification problems it is typical to use accuracy as the metric to evaluate performance of the method. Accuracy is the ratio of the correctly predicted observations to the total number of observation. With an imbalanced problem like the one we have, accuracy will not be a good preformance measure. To show why, if we simply make a classification model which predicts all observations as class 0, \"no stroke\", we will get a very high accuracy which will not reflect the difference in size between the two classes.\n",
    "\n",
    "\\begin{align*}\n",
    "    \\text{accuracy} = \\frac{\\text{tp + tn}}{\\text{tp + tn + fn + fp}} = \\frac{4699 + 0}{4699 + 0 + 209 + 0} = 0.957\n",
    "\\end{align*}\n",
    "\n",
    "Other measures which are better with dealing with unsymmetric classes are precision and recall. Precision is the ratio of correctly predicted positive observations to the total number of predicted positive observations. Precision favors a low false positive rate. Recall is the ratio of correctly predicted positive observations to all the observations in the actual class. This favors the false negative rate, which is important when we want to minimize the number of false negatives. Both of these metrics would becomes zero in the case above.\n",
    "\n",
    "\\begin{align*}\n",
    "    \\text{precision} = \\frac{\\text{tp}}{\\text{tp + fp}}, \\quad \\text{recall} = \\frac{\\text{tp}}{\\text{tp + fn}}\n",
    "\\end{align*}\n",
    "\n",
    "To be able to take into account both recall and precision, we can use the f1-measure, which is the harmoic mean of precision and recall:\n",
    "\n",
    "\\begin{align*}\n",
    "    \\text{f1} = \\frac{2\\cdot \\text{precision} \\cdot \\text{recall}}{\\text{precision + recall}}\n",
    "\\end{align*}\n",
    "\n",
    "Instead of using the predicted values from using the threshold 0.5, we could also calculate both ROC-AUC and precision-recall-AUC to find better thresholds. ROC-AUC is the area under the ROC curve which plots the true positive rate against the false positive rate. The precision-recall curve uses precision instead of false positive rate, and can be considered better in the case when we have an unproportional large amount of true negatives, since neither recall or precision takes this into account.\n",
    "\n",
    "Sklearn also icludes several metric which tries to balance out the classes during evaluation. For evaluating our models we will use the balanced accuracy score, which is defined as the average of recall obtained on each class: \n",
    "\n",
    "<a href=https://scikit-learn.org/stable/modules/generated/sklearn.metrics.balanced_accuracy_score.html>Scikit-Learn - Balanced Accuracy </a> \n",
    "\n",
    "We will show this produces good results. Using this metric during the hyperparameter tuning of the models, the goal is that the models will favor decreasing the amount of false negatives over increasing the amount of true negatives. This might push more observations into false positives, but considering the real world implications of false negatives in stroke predictions, this is an acceptable trade-off."
   ]
  },
  {
   "cell_type": "markdown",
   "metadata": {},
   "source": [
    "### Hyperparameter tuning"
   ]
  },
  {
   "cell_type": "markdown",
   "metadata": {},
   "source": [
    "Most of the models we will apply will need some hyperparameter tuning in order to be effective. Hyperparameters are essentially all parameters that we pass to the function that fits a model. What we consider hyperparameters will become evident when discussing the different models. The goal of hyperparameter tuning is to select hyperparameters so that the model maximizes some metric. For essentially all models we use the \"balanced_accuracy\" metric for tuning our models. \n",
    "\n",
    "In statistical learning and machine learning, the the hope is that most model are stable in the hyperparameters, meaning that small changes in hyperparameters yield similar results. This is however not always the case, and hyperparameter tuning is necessary.\n",
    "\n",
    "Different hyperparameters also allow us to tune models to be more balanced. However, we will see that in order to get good results for this problem, one should start with a balanced model instead of tuning an unbalanced model to be more balanced. \n",
    "\n",
    "Hyperparameter tuning is a difficult optimization problem. It is difficult because we usually have no mathematical expression for how different hyperparameters affect the metric. This means that we have no information about gradients, and the problem is most likely non-convex. Furthermore, function evaluations, which here corresponds to fitting a model with certain hyperparameters, are usually expensive. For tree-models, many hyperparameters are discrete, and if we change one hyperparameter we usually have to refit the entire model. This is different from for example lasso regression, where model fits are (usually) continuous with respect to the regularization parameter, and one fit can be used to quickly find the next fit. This is also the case for some tree-model hyperparameters, but this is not necessarily taken into account by the methods we use to search for hyperparameters. \n",
    "\n",
    "We will use two different methods for hyperparameter tuning: Grid search and Bayesian search. \n",
    "Grid search fits models using a grid of hyperparameters, at each point applying CV to get an estimate of the metric, and selects the model that gives the best result. \n",
    "\n",
    "- Grid search is simple, easy to parallelize and requires essentially no cost other than fitting the models.\n",
    "- One of the drawbacks is that we have to preselect a grid, which can either be too coarse, leading to a bad result, or too fine, leading to long computation times. \n",
    "- Another problem with preselecting a grid is that the optimal hyperparameters do not necessarily lie inside the preselected grid, meaning that grid search is not entirely automatic.\n",
    "\n",
    "The grid search we will use is the ```GridSearchCV``` function in the sklearn library. \n",
    "\n",
    "Bayesian search uses Bayesian optimization to find optimal hyperparameters. We will not go into detail about Bayesian optimization here, but we will mention some pros and cons. \n",
    "\n",
    "- The main appeal of Bayesian optimization is that it searches for a good solution in a much smarter way than grid search. \n",
    "- It is able to handle local minimizers, which is something traditional optimization methods usually struggle with.\n",
    "- We can select prior distributions for the hyperparameters, and the result can be considered a posterior distribution. Thus, we can actually do some inference with our hyperparameters.\n",
    "- The implementation that we will use, ```BayesianSearchCV``` from the scikit optimize library, is currently under development, and not particularily fast or well-documented. The extra cost of searching for good hyperparameters to test most likely outweigh the cost of just testing more \"bad\" hyperparameters, which is especially the case if fitting the models is cheap. \n",
    "- Bayesian optimization is also mainly effective for continuous, not discrete, variables. It is unknown to us how the implementation we use handles discrete variables. Bayesian optimization also has the problem of requiring a preselected grid where we search for solutions.\n",
    "\n",
    "For both grid search and Bayesian search, the implementations we are using are rather lacking in that it is difficult to interpret the results. It is not impossible, but it requires some extra work that we are not interested in doing here. It would be interesting to investigate how stable different methods are with respect to different hyperparameters and which hyperparameters are important."
   ]
  },
  {
   "cell_type": "markdown",
   "metadata": {},
   "source": [
    "## Tree-Based Models"
   ]
  },
  {
   "cell_type": "markdown",
   "metadata": {},
   "source": [
    "We now test various tree-based methods to see how they perform. We begin with a simple decision tree."
   ]
  },
  {
   "cell_type": "markdown",
   "metadata": {},
   "source": [
    "### Decision tree\n",
    "\n",
    "For tree-based models, we start by implementing a simple decision tree to get a baseline test error for our models to see if the more advanced ensemble methods and the neural network can actually improve predictions for this very imbalanced dataset. To search for the optimal hyperparameters we use a gridsearch using sklearn's $```GridSearchCV```$. To use this method we must define a grid of hyperparameter values for the method to test.  For the decision tree we decide to include the hyperparamters ```criterion```, ```max_depth```, ```min_samples_split``` and ```min_samples_leaf```. There are more hyperparameters to tune, and we are not certain if these are the best parameters to tune. In fact, the more parameters we tune, the more likely it is that we do a lot of unecessary calculations.\n",
    "\n",
    "We will first implement the decision tree using accuracy as the scoring metric, to show that this does not yield optimal results."
   ]
  },
  {
   "cell_type": "code",
   "execution_count": 71,
   "metadata": {},
   "outputs": [
    {
     "name": "stdout",
     "output_type": "stream",
     "text": [
      "Best hyperparameter:\n",
      "{'criterion': 'gini', 'max_depth': 1, 'min_samples_leaf': 1, 'min_samples_split': 2}\n"
     ]
    }
   ],
   "source": [
    "# Setting up parameters\n",
    "parameters = {\n",
    "    \"criterion\": [\"gini\", \"entropy\"], \n",
    "    \"max_depth\": range(1, 8, 1),          \n",
    "    \"min_samples_split\": range(2, 8, 1),\n",
    "    \"min_samples_leaf\": range(1, 8, 1)\n",
    "    }\n",
    "\n",
    "# Creating the decision tree\n",
    "decisiontree = GridSearchCV(\n",
    "    estimator = DecisionTreeClassifier(random_state = 23),\n",
    "    param_grid = parameters,\n",
    "    scoring = \"accuracy\",\n",
    "    cv = 3\n",
    ")\n",
    "\n",
    "# Fit the desicion tree\n",
    "decisiontree_fit = decisiontree.fit(X_train, y_train)\n",
    "\n",
    "# Print out the best parameters\n",
    "print(\"Best hyperparameter:\")\n",
    "print(decisiontree_fit.best_params_)"
   ]
  },
  {
   "cell_type": "markdown",
   "metadata": {},
   "source": [
    "We see that the best hyperparameters yield an extremely shallow tree with a maximum depth of 1. From the resulting decision tree above we see that the tree does not manage to correctly classify many of the observations from the minority class. We calculate the test error below."
   ]
  },
  {
   "cell_type": "code",
   "execution_count": 72,
   "metadata": {},
   "outputs": [
    {
     "name": "stdout",
     "output_type": "stream",
     "text": [
      "Test errors:\n",
      "\n",
      "accuracy: 0.960\n",
      "precision: 0.000\n",
      "recall: 0.000\n",
      "f1: 0.000\n"
     ]
    },
    {
     "data": {
      "image/png": "[encoded data removed]",
      "text/plain": [
       "<Figure size 432x288 with 2 Axes>"
      ]
     },
     "metadata": {
      "needs_background": "light"
     },
     "output_type": "display_data"
    }
   ],
   "source": [
    "# Display test error statistics\n",
    "test_error(decisiontree_fit, X_test, y_test)"
   ]
  },
  {
   "cell_type": "markdown",
   "metadata": {},
   "source": [
    "From the confusion matrix above we see that the method does not manage to predict a single true positive case, but still gets a accuracy of $\\sim 96\\%$. As the good statisticians we are, we are not fooled by the good accuracy, and try use the \"balanced accuracy\" as the scoring metric in the hyperparameter tuning from now on.\n",
    "\n",
    "For each model we also plot the ROC and precision-recall curves to see how these changes with the different methods. When using a different metric we expect the ROC-AUC score to becomes worse, but hopefully the PR-AUC score will increase."
   ]
  },
  {
   "cell_type": "code",
   "execution_count": 74,
   "metadata": {},
   "outputs": [
    {
     "data": {
      "image/png": "[encoded data removed]",
      "text/plain": [
       "<Figure size 936x360 with 2 Axes>"
      ]
     },
     "metadata": {
      "needs_background": "light"
     },
     "output_type": "display_data"
    }
   ],
   "source": [
    "# Plot ROC and Precision-Recall Curve\n",
    "curves(decisiontreefit, X_test, y_test)"
   ]
  },
  {
   "cell_type": "markdown",
   "metadata": {},
   "source": [
    "We train the decision tree again, this time with the \"balanced accuracy\" score. We also allow the ```class_weight``` to be \"balanced\" in out hyperparameter tuning."
   ]
  },
  {
   "cell_type": "code",
   "execution_count": 78,
   "metadata": {},
   "outputs": [
    {
     "name": "stdout",
     "output_type": "stream",
     "text": [
      "Best hyperparameters:\n",
      "{'class_weight': 'balanced', 'criterion': 'gini', 'max_depth': 1, 'min_samples_leaf': 1, 'min_samples_split': 2}\n"
     ]
    }
   ],
   "source": [
    "# Setting up parameters\n",
    "parameters = {\n",
    "    \"criterion\": [\"gini\", \"entropy\"], \n",
    "    \"max_depth\": range(1, 8, 1),\n",
    "    \"min_samples_split\": range(2, 8, 1),\n",
    "    \"min_samples_leaf\": range(1, 8, 1),\n",
    "    \"class_weight\": [None, \"balanced\"]\n",
    "}\n",
    "\n",
    "# Creating the decision tree\n",
    "balanced_tree = GridSearchCV(\n",
    "    estimator = DecisionTreeClassifier(random_state = 23),\n",
    "    param_grid = parameters,\n",
    "    scoring = \"balanced_accuracy\", \n",
    "    cv = 3\n",
    ")\n",
    "\n",
    "# Fit the desicion tree\n",
    "balanced_tree_fit = balanced_tree.fit(X_train, y_train)\n",
    "\n",
    "# Print out the best parameters\n",
    "print(\"Best hyperparameters:\")\n",
    "print(balanced_tree_fit.best_params_)"
   ]
  },
  {
   "cell_type": "code",
   "execution_count": 80,
   "metadata": {},
   "outputs": [
    {
     "name": "stdout",
     "output_type": "stream",
     "text": [
      "Test errors:\n",
      "\n",
      "accuracy: 0.522\n",
      "precision: 0.074\n",
      "recall: 0.959\n",
      "f1: 0.138\n"
     ]
    },
    {
     "data": {
      "image/png": "[encoded data removed]",
      "text/plain": [
       "<Figure size 432x288 with 2 Axes>"
      ]
     },
     "metadata": {
      "needs_background": "light"
     },
     "output_type": "display_data"
    }
   ],
   "source": [
    "# Display test error statistics\n",
    "test_error(balanced_tree, X_test, y_test)"
   ]
  },
  {
   "cell_type": "code",
   "execution_count": 81,
   "metadata": {},
   "outputs": [
    {
     "data": {
      "image/png": "[encoded data removed]",
      "text/plain": [
       "<Figure size 936x360 with 2 Axes>"
      ]
     },
     "metadata": {
      "needs_background": "light"
     },
     "output_type": "display_data"
    }
   ],
   "source": [
    "# Plot ROC and Precision-Recall Curve\n",
    "curves(balanced_tree, X_test, y_test)"
   ]
  },
  {
   "cell_type": "markdown",
   "metadata": {},
   "source": [
    "Using the different scoring metric, we have managed to get a better recall, at the expense of many more false positive predictions and a much lower accuracy. Being able to classify true positives comes heavily at the cost of producing false negatives. We see from the hyperparameter tuning that a deeper tree is now necessary. "
   ]
  },
  {
   "cell_type": "markdown",
   "metadata": {},
   "source": [
    "### Random Forests"
   ]
  },
  {
   "cell_type": "code",
   "execution_count": null,
   "metadata": {},
   "outputs": [],
   "source": []
  }
 ],
 "metadata": {
  "kernelspec": {
   "display_name": "Python 3",
   "language": "python",
   "name": "python3"
  },
  "language_info": {
   "codemirror_mode": {
    "name": "ipython",
    "version": 3
   },
   "file_extension": ".py",
   "mimetype": "text/x-python",
   "name": "python",
   "nbconvert_exporter": "python",
   "pygments_lexer": "ipython3",
   "version": "3.8.5"
  }
 },
 "nbformat": 4,
 "nbformat_minor": 4
}
