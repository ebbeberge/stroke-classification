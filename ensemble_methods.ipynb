{
 "cells": [
  {
   "cell_type": "markdown",
   "metadata": {},
   "source": [
    "# Ensemble methods"
   ]
  },
  {
   "cell_type": "code",
   "execution_count": 26,
   "metadata": {},
   "outputs": [
    {
     "name": "stdout",
     "output_type": "stream",
     "text": [
      "Dataset:  (4908, 18)\n"
     ]
    },
    {
     "data": {
      "text/html": [
       "<div>\n",
       "<style scoped>\n",
       "    .dataframe tbody tr th:only-of-type {\n",
       "        vertical-align: middle;\n",
       "    }\n",
       "\n",
       "    .dataframe tbody tr th {\n",
       "        vertical-align: top;\n",
       "    }\n",
       "\n",
       "    .dataframe thead th {\n",
       "        text-align: right;\n",
       "    }\n",
       "</style>\n",
       "<table border=\"1\" class=\"dataframe\">\n",
       "  <thead>\n",
       "    <tr style=\"text-align: right;\">\n",
       "      <th></th>\n",
       "      <th>gender</th>\n",
       "      <th>age</th>\n",
       "      <th>hypertension</th>\n",
       "      <th>heart_disease</th>\n",
       "      <th>ever_married</th>\n",
       "      <th>residence_type</th>\n",
       "      <th>avg_glucose_level</th>\n",
       "      <th>bmi</th>\n",
       "      <th>govt_job</th>\n",
       "      <th>never_worked</th>\n",
       "      <th>private</th>\n",
       "      <th>self-employed</th>\n",
       "      <th>children</th>\n",
       "      <th>never_smoked</th>\n",
       "      <th>formerly_smoked</th>\n",
       "      <th>smokes</th>\n",
       "      <th>unknown_smoker</th>\n",
       "      <th>stroke</th>\n",
       "    </tr>\n",
       "    <tr>\n",
       "      <th>id</th>\n",
       "      <th></th>\n",
       "      <th></th>\n",
       "      <th></th>\n",
       "      <th></th>\n",
       "      <th></th>\n",
       "      <th></th>\n",
       "      <th></th>\n",
       "      <th></th>\n",
       "      <th></th>\n",
       "      <th></th>\n",
       "      <th></th>\n",
       "      <th></th>\n",
       "      <th></th>\n",
       "      <th></th>\n",
       "      <th></th>\n",
       "      <th></th>\n",
       "      <th></th>\n",
       "      <th></th>\n",
       "    </tr>\n",
       "  </thead>\n",
       "  <tbody>\n",
       "    <tr>\n",
       "      <th>9046</th>\n",
       "      <td>0</td>\n",
       "      <td>67.0</td>\n",
       "      <td>0</td>\n",
       "      <td>1</td>\n",
       "      <td>1</td>\n",
       "      <td>1</td>\n",
       "      <td>228.69</td>\n",
       "      <td>36.6</td>\n",
       "      <td>0</td>\n",
       "      <td>0</td>\n",
       "      <td>1</td>\n",
       "      <td>0</td>\n",
       "      <td>0</td>\n",
       "      <td>0</td>\n",
       "      <td>1</td>\n",
       "      <td>0</td>\n",
       "      <td>0</td>\n",
       "      <td>1</td>\n",
       "    </tr>\n",
       "    <tr>\n",
       "      <th>31112</th>\n",
       "      <td>0</td>\n",
       "      <td>80.0</td>\n",
       "      <td>0</td>\n",
       "      <td>1</td>\n",
       "      <td>1</td>\n",
       "      <td>0</td>\n",
       "      <td>105.92</td>\n",
       "      <td>32.5</td>\n",
       "      <td>0</td>\n",
       "      <td>0</td>\n",
       "      <td>1</td>\n",
       "      <td>0</td>\n",
       "      <td>0</td>\n",
       "      <td>1</td>\n",
       "      <td>0</td>\n",
       "      <td>0</td>\n",
       "      <td>0</td>\n",
       "      <td>1</td>\n",
       "    </tr>\n",
       "    <tr>\n",
       "      <th>60182</th>\n",
       "      <td>1</td>\n",
       "      <td>49.0</td>\n",
       "      <td>0</td>\n",
       "      <td>0</td>\n",
       "      <td>1</td>\n",
       "      <td>1</td>\n",
       "      <td>171.23</td>\n",
       "      <td>34.4</td>\n",
       "      <td>0</td>\n",
       "      <td>0</td>\n",
       "      <td>1</td>\n",
       "      <td>0</td>\n",
       "      <td>0</td>\n",
       "      <td>0</td>\n",
       "      <td>0</td>\n",
       "      <td>1</td>\n",
       "      <td>0</td>\n",
       "      <td>1</td>\n",
       "    </tr>\n",
       "    <tr>\n",
       "      <th>1665</th>\n",
       "      <td>1</td>\n",
       "      <td>79.0</td>\n",
       "      <td>1</td>\n",
       "      <td>0</td>\n",
       "      <td>1</td>\n",
       "      <td>0</td>\n",
       "      <td>174.12</td>\n",
       "      <td>24.0</td>\n",
       "      <td>0</td>\n",
       "      <td>0</td>\n",
       "      <td>0</td>\n",
       "      <td>1</td>\n",
       "      <td>0</td>\n",
       "      <td>1</td>\n",
       "      <td>0</td>\n",
       "      <td>0</td>\n",
       "      <td>0</td>\n",
       "      <td>1</td>\n",
       "    </tr>\n",
       "    <tr>\n",
       "      <th>56669</th>\n",
       "      <td>0</td>\n",
       "      <td>81.0</td>\n",
       "      <td>0</td>\n",
       "      <td>0</td>\n",
       "      <td>1</td>\n",
       "      <td>1</td>\n",
       "      <td>186.21</td>\n",
       "      <td>29.0</td>\n",
       "      <td>0</td>\n",
       "      <td>0</td>\n",
       "      <td>1</td>\n",
       "      <td>0</td>\n",
       "      <td>0</td>\n",
       "      <td>0</td>\n",
       "      <td>1</td>\n",
       "      <td>0</td>\n",
       "      <td>0</td>\n",
       "      <td>1</td>\n",
       "    </tr>\n",
       "  </tbody>\n",
       "</table>\n",
       "</div>"
      ],
      "text/plain": [
       "       gender   age  hypertension  heart_disease  ever_married  \\\n",
       "id                                                               \n",
       "9046        0  67.0             0              1             1   \n",
       "31112       0  80.0             0              1             1   \n",
       "60182       1  49.0             0              0             1   \n",
       "1665        1  79.0             1              0             1   \n",
       "56669       0  81.0             0              0             1   \n",
       "\n",
       "       residence_type  avg_glucose_level   bmi  govt_job  never_worked  \\\n",
       "id                                                                       \n",
       "9046                1             228.69  36.6         0             0   \n",
       "31112               0             105.92  32.5         0             0   \n",
       "60182               1             171.23  34.4         0             0   \n",
       "1665                0             174.12  24.0         0             0   \n",
       "56669               1             186.21  29.0         0             0   \n",
       "\n",
       "       private  self-employed  children  never_smoked  formerly_smoked  \\\n",
       "id                                                                       \n",
       "9046         1              0         0             0                1   \n",
       "31112        1              0         0             1                0   \n",
       "60182        1              0         0             0                0   \n",
       "1665         0              1         0             1                0   \n",
       "56669        1              0         0             0                1   \n",
       "\n",
       "       smokes  unknown_smoker  stroke  \n",
       "id                                     \n",
       "9046        0               0       1  \n",
       "31112       0               0       1  \n",
       "60182       1               0       1  \n",
       "1665        0               0       1  \n",
       "56669       0               0       1  "
      ]
     },
     "execution_count": 26,
     "metadata": {},
     "output_type": "execute_result"
    }
   ],
   "source": [
    "import warnings\n",
    "import graphviz\n",
    "import numpy as np\n",
    "import pandas as pd\n",
    "import seaborn as sns\n",
    "import matplotlib.pyplot as plt\n",
    "from IPython.display import display\n",
    "\n",
    "import xgboost as xgb\n",
    "from imblearn.ensemble import BalancedRandomForestClassifier\n",
    "from sklearn.tree import DecisionTreeClassifier, export_graphviz\n",
    "from sklearn.ensemble import RandomForestClassifier, GradientBoostingClassifier\n",
    "from sklearn.model_selection import GridSearchCV, train_test_split\n",
    "from sklearn.preprocessing import StandardScaler\n",
    "from sklearn.metrics import (accuracy_score, f1_score, precision_score, recall_score, roc_auc_score, roc_curve,\n",
    "                             auc, precision_recall_curve, make_scorer, confusion_matrix)\n",
    "\n",
    "# Importing the cleaned data\n",
    "df = pd.read_csv('stroke_clean.csv', index_col='id')\n",
    "print('Dataset: ', df.shape)\n",
    "df.head()"
   ]
  },
  {
   "cell_type": "code",
   "execution_count": 2,
   "metadata": {},
   "outputs": [],
   "source": [
    "# Do a train-test split\n",
    "x = np.array(df.loc[:, df.columns != 'stroke'])\n",
    "y = np.array(df['stroke'])\n",
    "test_size = 0.3\n",
    "\n",
    "x_train, x_test, y_train, y_test = train_test_split(x, y, test_size = test_size, random_state = 41)\n",
    "\n",
    "# Scaling the data\n",
    "#scaler = StandardScaler()\n",
    "#x_train = scaler.fit_transform(x_train)\n",
    "#x_test = scaler.transform(x_test)"
   ]
  },
  {
   "cell_type": "code",
   "execution_count": 3,
   "metadata": {},
   "outputs": [
    {
     "data": {
      "text/plain": [
       "<AxesSubplot:ylabel='Count'>"
      ]
     },
     "execution_count": 3,
     "metadata": {},
     "output_type": "execute_result"
    },
    {
     "data": {
      "image/png": "[encoded data removed]",
      "text/plain": [
       "<Figure size 432x288 with 1 Axes>"
      ]
     },
     "metadata": {
      "needs_background": "light"
     },
     "output_type": "display_data"
    }
   ],
   "source": [
    "# Quick EDA\n",
    "# Stroke = 1\n",
    "# Not stroke = 0\n",
    "\n",
    "# Dataset is very skewed, in more than one way\n",
    "# We have more people without strokes than with strokes\n",
    "# We have more women than men in the dataset\n",
    "\n",
    "d = np.where(df.stroke == 1, \"stroke\", \"no stroke\")\n",
    "sns.histplot(data = d)"
   ]
  },
  {
   "cell_type": "code",
   "execution_count": 4,
   "metadata": {},
   "outputs": [
    {
     "data": {
      "text/plain": [
       "<AxesSubplot:xlabel='gender', ylabel='Count'>"
      ]
     },
     "execution_count": 4,
     "metadata": {},
     "output_type": "execute_result"
    },
    {
     "data": {
      "image/png": "[encoded data removed]",
      "text/plain": [
       "<Figure size 432x288 with 1 Axes>"
      ]
     },
     "metadata": {
      "needs_background": "light"
     },
     "output_type": "display_data"
    }
   ],
   "source": [
    "a = df\n",
    "a.gender = np.where(df.gender == 1, \"female\", \"male\")\n",
    "sns.histplot(data=a, x=\"gender\", hue=\"stroke\", multiple=\"dodge\", shrink=.8)"
   ]
  },
  {
   "cell_type": "code",
   "execution_count": 5,
   "metadata": {},
   "outputs": [
    {
     "data": {
      "text/plain": [
       "<AxesSubplot:xlabel='age', ylabel='Count'>"
      ]
     },
     "execution_count": 5,
     "metadata": {},
     "output_type": "execute_result"
    },
    {
     "data": {
      "image/png": "[encoded data removed]",
      "text/plain": [
       "<Figure size 432x288 with 1 Axes>"
      ]
     },
     "metadata": {
      "needs_background": "light"
     },
     "output_type": "display_data"
    }
   ],
   "source": [
    "# Seems like an almost exponential chance of getting a stroke as you become older, based purely on data\n",
    "sns.histplot(data = df, x=\"age\", hue=\"stroke\")"
   ]
  },
  {
   "cell_type": "code",
   "execution_count": 6,
   "metadata": {},
   "outputs": [
    {
     "name": "stdout",
     "output_type": "stream",
     "text": [
      "Percentage of stroke examples in dataset:  209 0.04258353708231459\n",
      "Percentage of non-stroke examples in dataset:  4699 0.9574164629176855\n",
      "\n",
      "Percentage of stroke examples in training set:  148 0.04308588064046579\n",
      "Percentage of non-stroke examples in training set:  3287 0.9569141193595342\n",
      "\n",
      "Percentage of stroke examples in test set:  61 0.041412084181941616\n",
      "Percentage of non-stroke examples in test set:  1412 0.9585879158180584\n"
     ]
    }
   ],
   "source": [
    "print(\"Percentage of stroke examples in dataset: \", df[df.stroke == 1].shape[0], df[df.stroke == 1].shape[0]/df.shape[0])\n",
    "print(\"Percentage of non-stroke examples in dataset: \", df[df.stroke == 0].shape[0], df[df.stroke == 0].shape[0]/df.shape[0])\n",
    "print()\n",
    "print(\"Percentage of stroke examples in training set: \", x_train[y_train == 1].shape[0], x_train[y_train == 1].shape[0]/x_train.shape[0])\n",
    "print(\"Percentage of non-stroke examples in training set: \", x_train[y_train == 0].shape[0], x_train[y_train == 0].shape[0]/x_train.shape[0])\n",
    "print()\n",
    "print(\"Percentage of stroke examples in test set: \", x_test[y_test == 1].shape[0], x_test[y_test == 1].shape[0]/x_test.shape[0])\n",
    "print(\"Percentage of non-stroke examples in test set: \", x_test[y_test == 0].shape[0], x_test[y_test == 0].shape[0]/x_test.shape[0])"
   ]
  },
  {
   "cell_type": "code",
   "execution_count": 7,
   "metadata": {},
   "outputs": [],
   "source": [
    "# Necessary functions\n",
    "\n",
    "# Define different scores to evaluate the models\n",
    "scoring = {'accuracy': make_scorer(accuracy_score),\n",
    "           'precision': make_scorer(precision_score),\n",
    "           'f1': make_scorer(f1_score),\n",
    "           'recall': make_scorer(recall_score)}\n",
    "\n",
    "def roc(model_fit, x_test, y_test):\n",
    "    ns_probs = [0 for _ in range(len(y_test))]\n",
    "    lr_probs = model_fit.predict_proba(x_test)\n",
    "    lr_probs = lr_probs[:, 1]\n",
    "\n",
    "    # calculate scores\n",
    "    ns_auc = roc_auc_score(y_test, ns_probs)\n",
    "    lr_auc = roc_auc_score(y_test, lr_probs)\n",
    "\n",
    "    # summarize scores\n",
    "    print('Model: ROC AUC=%.3f' % (lr_auc))\n",
    "\n",
    "    # calculate roc curves\n",
    "    ns_fpr, ns_tpr, _ = roc_curve(y_test, ns_probs)\n",
    "    lr_fpr, lr_tpr, _ = roc_curve(y_test, lr_probs)\n",
    "\n",
    "    # plot the roc curve for the model\n",
    "    plt.figure()\n",
    "    plt.plot(ns_fpr, ns_tpr, linestyle='--', label='No Skill')\n",
    "    plt.plot(lr_fpr, lr_tpr, marker='.', label='Model')\n",
    "    plt.xlabel('False Positive Rate')\n",
    "    plt.ylabel('True Positive Rate')\n",
    "    plt.legend()\n",
    "    plt.show()\n",
    "    \n",
    "def precision_recall(model_fit, x_test, y_test):\n",
    "    lr_probs = model_fit.predict_proba(x_test)\n",
    "    lr_probs = lr_probs[:, 1]\n",
    "    \n",
    "    # predict class values\n",
    "    yhat = model_fit.predict(x_test)\n",
    "    lr_precision, lr_recall, _ = precision_recall_curve(y_test, lr_probs)\n",
    "    lr_f1, lr_auc = f1_score(y_test, yhat), auc(lr_recall, lr_precision)\n",
    "    \n",
    "    # summarize scores\n",
    "    print('Model: f1=%.3f auc=%.3f' % (lr_f1, lr_auc))\n",
    "    \n",
    "    # plot the precision-recall curves\n",
    "    no_skill = len(y_test[y_test==1]) / len(y_test)\n",
    "\n",
    "    plt.figure()\n",
    "    plt.plot([0, 1], [no_skill, no_skill], linestyle='--', label='No Skill')\n",
    "    plt.plot(lr_recall, lr_precision, marker='.', label='Model')\n",
    "    # axis labels\n",
    "    plt.xlabel('Recall')\n",
    "    plt.ylabel('Precision')\n",
    "    # show the legend\n",
    "    plt.legend()\n",
    "    # show the plot\n",
    "    plt.show()\n",
    "\n",
    "def train_error(model_fit):\n",
    "    train_pred = model_fit.predict(x_train)\n",
    "\n",
    "    print(\"Train errors:\")\n",
    "    print()\n",
    "    print(\"accuracy: \", accuracy_score(y_train, train_pred))\n",
    "    print(\"precision: \", precision_score(y_train, train_pred))\n",
    "    print(\"recall: \", recall_score(y_train, train_pred))\n",
    "    print(\"f1: \", f1_score(y_train, train_pred))\n",
    "    print()\n",
    "\n",
    "    #cm_train = confusion_matrix(y_train, train_pred)\n",
    "    #group_names = [\"TN\", \"FP\", \"FN\", \"TP\"]\n",
    "    #group_counts = [\"{0:0.0f}\".format(value) for value in cm_train.flatten()]\n",
    "    #labels = [f\"{v1}\\n{v2}\" for v1, v2 in zip(group_names, group_counts)]\n",
    "    #labels = np.asarray(labels).reshape(2,2)\n",
    "    #sns.heatmap(cm_train, annot=labels, fmt = \"\", annot_kws={\"size\": 16}, linewidths = 0.5, cmap=\"YlGnBu\")\n",
    "    \n",
    "def test_error(model_fit):\n",
    "    test_pred = model_fit.predict(x_test)\n",
    "\n",
    "    print(\"Test errors:\")\n",
    "    print()\n",
    "    print(\"accuracy: \", accuracy_score(y_test, test_pred))\n",
    "    print(\"precision: \", precision_score(y_test, test_pred))\n",
    "    print(\"recall: \", recall_score(y_test, test_pred))\n",
    "    print(\"f1: \", f1_score(y_test, test_pred))\n",
    "\n",
    "    cm_test = confusion_matrix(y_test, test_pred)\n",
    "    group_names = [\"TN\", \"FP\", \"FN\", \"TP\"]\n",
    "    group_counts = [\"{0:0.0f}\".format(value) for value in cm_test.flatten()]\n",
    "    labels = [f\"{v1}\\n{v2}\" for v1, v2 in zip(group_names, group_counts)]\n",
    "    labels = np.asarray(labels).reshape(2,2)\n",
    "    sns.heatmap(cm_test, annot=labels, fmt = \"\", annot_kws={\"size\": 16}, linewidths = 0.5, cmap=\"YlGnBu\")"
   ]
  },
  {
   "cell_type": "markdown",
   "metadata": {},
   "source": [
    "### How to evaluate performance?\n",
    "\n",
    "Write about ROC, Precision-recall, accuracy, precision, recall and f1. We cannot use gridsearch CV to optimize for anything other than accuracy, as it will not give the expected results. When we decide how we will evaluate the functions, then write your own grid search algorithm which favors the minority class."
   ]
  },
  {
   "cell_type": "markdown",
   "metadata": {},
   "source": [
    "### Decision tree\n",
    "\n",
    "Implement a simple decision tree to test the GridSeachCV and get a baseline error. We do a grid search over the parameters criterion, max_depth, min_samples_split and min_samples_leaf. We also look at the different trees using different refit scoring."
   ]
  },
  {
   "cell_type": "code",
   "execution_count": 8,
   "metadata": {},
   "outputs": [
    {
     "name": "stdout",
     "output_type": "stream",
     "text": [
      "{'criterion': 'gini', 'max_depth': 3, 'min_samples_leaf': 1, 'min_samples_split': 2}\n"
     ]
    }
   ],
   "source": [
    "warnings.filterwarnings('ignore')\n",
    "\n",
    "parameters = {'criterion': ('gini', 'entropy'),      # Function to measure quality of split\n",
    "              'max_depth': range(1, 10, 1),          # The maximum depth of the tree\n",
    "              'min_samples_split': range(2, 10, 1),  # The minimum number of samples required to split an internal node\n",
    "              'min_samples_leaf': range(1, 10, 1)}   # The minimum number of samples required to be at a leaf node\n",
    "\n",
    "clf = GridSearchCV(estimator = DecisionTreeClassifier(random_state = 41),\n",
    "                   param_grid = parameters,\n",
    "                   scoring = \"accuracy\",\n",
    "                   cv = 5)\n",
    "\n",
    "clf = clf.fit(x_train, y_train)\n",
    "results = clf.cv_results_\n",
    "best_params = clf.best_params_\n",
    "print(best_params)\n",
    "\n",
    "warnings.filterwarnings('always')"
   ]
  },
  {
   "cell_type": "code",
   "execution_count": 9,
   "metadata": {},
   "outputs": [
    {
     "data": {
      "image/svg+xml": [
       "<?xml version=\"1.0\" encoding=\"UTF-8\" standalone=\"no\"?>\r\n",
       "<!DOCTYPE svg PUBLIC \"-//W3C//DTD SVG 1.1//EN\"\r\n",
       " \"http://www.w3.org/Graphics/SVG/1.1/DTD/svg11.dtd\">\r\n",
       "<!-- Generated by graphviz version 2.38.0 (20140413.2041)\r\n",
       " -->\r\n",
       "<!-- Title: Tree Pages: 1 -->\r\n",
       "<svg width=\"1020pt\" height=\"433pt\"\r\n",
       " viewBox=\"0.00 0.00 1020.00 433.00\" xmlns=\"http://www.w3.org/2000/svg\" xmlns:xlink=\"http://www.w3.org/1999/xlink\">\r\n",
       "<g id=\"graph0\" class=\"graph\" transform=\"scale(1 1) rotate(0) translate(4 429)\">\r\n",
       "<title>Tree</title>\r\n",
       "<polygon fill=\"white\" stroke=\"none\" points=\"-4,4 -4,-429 1016,-429 1016,4 -4,4\"/>\r\n",
       "<!-- 0 -->\r\n",
       "<g id=\"node1\" class=\"node\"><title>0</title>\r\n",
       "<polygon fill=\"#e68742\" stroke=\"black\" points=\"577,-425 452,-425 452,-342 577,-342 577,-425\"/>\r\n",
       "<text text-anchor=\"middle\" x=\"514.5\" y=\"-409.8\" font-family=\"Times New Roman,serif\" font-size=\"14.00\">age &lt;= 66.5</text>\r\n",
       "<text text-anchor=\"middle\" x=\"514.5\" y=\"-394.8\" font-family=\"Times New Roman,serif\" font-size=\"14.00\">gini = 0.082</text>\r\n",
       "<text text-anchor=\"middle\" x=\"514.5\" y=\"-379.8\" font-family=\"Times New Roman,serif\" font-size=\"14.00\">samples = 3435</text>\r\n",
       "<text text-anchor=\"middle\" x=\"514.5\" y=\"-364.8\" font-family=\"Times New Roman,serif\" font-size=\"14.00\">value = [3287, 148]</text>\r\n",
       "<text text-anchor=\"middle\" x=\"514.5\" y=\"-349.8\" font-family=\"Times New Roman,serif\" font-size=\"14.00\">class = no stroke</text>\r\n",
       "</g>\r\n",
       "<!-- 1 -->\r\n",
       "<g id=\"node2\" class=\"node\"><title>1</title>\r\n",
       "<polygon fill=\"#e6843d\" stroke=\"black\" points=\"476.5,-306 358.5,-306 358.5,-223 476.5,-223 476.5,-306\"/>\r\n",
       "<text text-anchor=\"middle\" x=\"417.5\" y=\"-290.8\" font-family=\"Times New Roman,serif\" font-size=\"14.00\">age &lt;= 47.5</text>\r\n",
       "<text text-anchor=\"middle\" x=\"417.5\" y=\"-275.8\" font-family=\"Times New Roman,serif\" font-size=\"14.00\">gini = 0.038</text>\r\n",
       "<text text-anchor=\"middle\" x=\"417.5\" y=\"-260.8\" font-family=\"Times New Roman,serif\" font-size=\"14.00\">samples = 2863</text>\r\n",
       "<text text-anchor=\"middle\" x=\"417.5\" y=\"-245.8\" font-family=\"Times New Roman,serif\" font-size=\"14.00\">value = [2807, 56]</text>\r\n",
       "<text text-anchor=\"middle\" x=\"417.5\" y=\"-230.8\" font-family=\"Times New Roman,serif\" font-size=\"14.00\">class = no stroke</text>\r\n",
       "</g>\r\n",
       "<!-- 0&#45;&gt;1 -->\r\n",
       "<g id=\"edge1\" class=\"edge\"><title>0&#45;&gt;1</title>\r\n",
       "<path fill=\"none\" stroke=\"black\" d=\"M480.846,-341.907C473.323,-332.832 465.271,-323.121 457.518,-313.769\"/>\r\n",
       "<polygon fill=\"black\" stroke=\"black\" points=\"460.171,-311.485 451.094,-306.021 454.782,-315.953 460.171,-311.485\"/>\r\n",
       "<text text-anchor=\"middle\" x=\"448.768\" y=\"-327.212\" font-family=\"Times New Roman,serif\" font-size=\"14.00\">True</text>\r\n",
       "</g>\r\n",
       "<!-- 8 -->\r\n",
       "<g id=\"node9\" class=\"node\"><title>8</title>\r\n",
       "<polygon fill=\"#ea995f\" stroke=\"black\" points=\"677,-306 548,-306 548,-223 677,-223 677,-306\"/>\r\n",
       "<text text-anchor=\"middle\" x=\"612.5\" y=\"-290.8\" font-family=\"Times New Roman,serif\" font-size=\"14.00\">hypertension &lt;= 0.5</text>\r\n",
       "<text text-anchor=\"middle\" x=\"612.5\" y=\"-275.8\" font-family=\"Times New Roman,serif\" font-size=\"14.00\">gini = 0.27</text>\r\n",
       "<text text-anchor=\"middle\" x=\"612.5\" y=\"-260.8\" font-family=\"Times New Roman,serif\" font-size=\"14.00\">samples = 572</text>\r\n",
       "<text text-anchor=\"middle\" x=\"612.5\" y=\"-245.8\" font-family=\"Times New Roman,serif\" font-size=\"14.00\">value = [480, 92]</text>\r\n",
       "<text text-anchor=\"middle\" x=\"612.5\" y=\"-230.8\" font-family=\"Times New Roman,serif\" font-size=\"14.00\">class = no stroke</text>\r\n",
       "</g>\r\n",
       "<!-- 0&#45;&gt;8 -->\r\n",
       "<g id=\"edge8\" class=\"edge\"><title>0&#45;&gt;8</title>\r\n",
       "<path fill=\"none\" stroke=\"black\" d=\"M548.501,-341.907C556.102,-332.832 564.236,-323.121 572.069,-313.769\"/>\r\n",
       "<polygon fill=\"black\" stroke=\"black\" points=\"574.821,-315.934 578.559,-306.021 569.455,-311.439 574.821,-315.934\"/>\r\n",
       "<text text-anchor=\"middle\" x=\"580.76\" y=\"-327.224\" font-family=\"Times New Roman,serif\" font-size=\"14.00\">False</text>\r\n",
       "</g>\r\n",
       "<!-- 2 -->\r\n",
       "<g id=\"node3\" class=\"node\"><title>2</title>\r\n",
       "<polygon fill=\"#e5823a\" stroke=\"black\" points=\"246.5,-187 128.5,-187 128.5,-104 246.5,-104 246.5,-187\"/>\r\n",
       "<text text-anchor=\"middle\" x=\"187.5\" y=\"-171.8\" font-family=\"Times New Roman,serif\" font-size=\"14.00\">age &lt;= 38.5</text>\r\n",
       "<text text-anchor=\"middle\" x=\"187.5\" y=\"-156.8\" font-family=\"Times New Roman,serif\" font-size=\"14.00\">gini = 0.011</text>\r\n",
       "<text text-anchor=\"middle\" x=\"187.5\" y=\"-141.8\" font-family=\"Times New Roman,serif\" font-size=\"14.00\">samples = 1866</text>\r\n",
       "<text text-anchor=\"middle\" x=\"187.5\" y=\"-126.8\" font-family=\"Times New Roman,serif\" font-size=\"14.00\">value = [1856, 10]</text>\r\n",
       "<text text-anchor=\"middle\" x=\"187.5\" y=\"-111.8\" font-family=\"Times New Roman,serif\" font-size=\"14.00\">class = no stroke</text>\r\n",
       "</g>\r\n",
       "<!-- 1&#45;&gt;2 -->\r\n",
       "<g id=\"edge2\" class=\"edge\"><title>1&#45;&gt;2</title>\r\n",
       "<path fill=\"none\" stroke=\"black\" d=\"M358.269,-233.37C326.88,-217.402 288.178,-197.714 255.558,-181.121\"/>\r\n",
       "<polygon fill=\"black\" stroke=\"black\" points=\"257.03,-177.943 246.53,-176.528 253.856,-184.182 257.03,-177.943\"/>\r\n",
       "</g>\r\n",
       "<!-- 5 -->\r\n",
       "<g id=\"node6\" class=\"node\"><title>5</title>\r\n",
       "<polygon fill=\"#e68743\" stroke=\"black\" points=\"507.5,-187 327.5,-187 327.5,-104 507.5,-104 507.5,-187\"/>\r\n",
       "<text text-anchor=\"middle\" x=\"417.5\" y=\"-171.8\" font-family=\"Times New Roman,serif\" font-size=\"14.00\">avg_glucose_level &lt;= 100.97</text>\r\n",
       "<text text-anchor=\"middle\" x=\"417.5\" y=\"-156.8\" font-family=\"Times New Roman,serif\" font-size=\"14.00\">gini = 0.088</text>\r\n",
       "<text text-anchor=\"middle\" x=\"417.5\" y=\"-141.8\" font-family=\"Times New Roman,serif\" font-size=\"14.00\">samples = 997</text>\r\n",
       "<text text-anchor=\"middle\" x=\"417.5\" y=\"-126.8\" font-family=\"Times New Roman,serif\" font-size=\"14.00\">value = [951, 46]</text>\r\n",
       "<text text-anchor=\"middle\" x=\"417.5\" y=\"-111.8\" font-family=\"Times New Roman,serif\" font-size=\"14.00\">class = no stroke</text>\r\n",
       "</g>\r\n",
       "<!-- 1&#45;&gt;5 -->\r\n",
       "<g id=\"edge5\" class=\"edge\"><title>1&#45;&gt;5</title>\r\n",
       "<path fill=\"none\" stroke=\"black\" d=\"M417.5,-222.907C417.5,-214.649 417.5,-205.864 417.5,-197.302\"/>\r\n",
       "<polygon fill=\"black\" stroke=\"black\" points=\"421,-197.021 417.5,-187.021 414,-197.021 421,-197.021\"/>\r\n",
       "</g>\r\n",
       "<!-- 3 -->\r\n",
       "<g id=\"node4\" class=\"node\"><title>3</title>\r\n",
       "<polygon fill=\"#e58139\" stroke=\"black\" points=\"113,-68 0,-68 0,-0 113,-0 113,-68\"/>\r\n",
       "<text text-anchor=\"middle\" x=\"56.5\" y=\"-52.8\" font-family=\"Times New Roman,serif\" font-size=\"14.00\">gini = 0.003</text>\r\n",
       "<text text-anchor=\"middle\" x=\"56.5\" y=\"-37.8\" font-family=\"Times New Roman,serif\" font-size=\"14.00\">samples = 1421</text>\r\n",
       "<text text-anchor=\"middle\" x=\"56.5\" y=\"-22.8\" font-family=\"Times New Roman,serif\" font-size=\"14.00\">value = [1419, 2]</text>\r\n",
       "<text text-anchor=\"middle\" x=\"56.5\" y=\"-7.8\" font-family=\"Times New Roman,serif\" font-size=\"14.00\">class = no stroke</text>\r\n",
       "</g>\r\n",
       "<!-- 2&#45;&gt;3 -->\r\n",
       "<g id=\"edge3\" class=\"edge\"><title>2&#45;&gt;3</title>\r\n",
       "<path fill=\"none\" stroke=\"black\" d=\"M138.72,-103.726C127.372,-94.2406 115.307,-84.1551 104.014,-74.7159\"/>\r\n",
       "<polygon fill=\"black\" stroke=\"black\" points=\"106.255,-72.0276 96.3379,-68.2996 101.766,-77.3984 106.255,-72.0276\"/>\r\n",
       "</g>\r\n",
       "<!-- 4 -->\r\n",
       "<g id=\"node5\" class=\"node\"><title>4</title>\r\n",
       "<polygon fill=\"#e5833d\" stroke=\"black\" points=\"244,-68 131,-68 131,-0 244,-0 244,-68\"/>\r\n",
       "<text text-anchor=\"middle\" x=\"187.5\" y=\"-52.8\" font-family=\"Times New Roman,serif\" font-size=\"14.00\">gini = 0.035</text>\r\n",
       "<text text-anchor=\"middle\" x=\"187.5\" y=\"-37.8\" font-family=\"Times New Roman,serif\" font-size=\"14.00\">samples = 445</text>\r\n",
       "<text text-anchor=\"middle\" x=\"187.5\" y=\"-22.8\" font-family=\"Times New Roman,serif\" font-size=\"14.00\">value = [437, 8]</text>\r\n",
       "<text text-anchor=\"middle\" x=\"187.5\" y=\"-7.8\" font-family=\"Times New Roman,serif\" font-size=\"14.00\">class = no stroke</text>\r\n",
       "</g>\r\n",
       "<!-- 2&#45;&gt;4 -->\r\n",
       "<g id=\"edge4\" class=\"edge\"><title>2&#45;&gt;4</title>\r\n",
       "<path fill=\"none\" stroke=\"black\" d=\"M187.5,-103.726C187.5,-95.5175 187.5,-86.8595 187.5,-78.56\"/>\r\n",
       "<polygon fill=\"black\" stroke=\"black\" points=\"191,-78.2996 187.5,-68.2996 184,-78.2996 191,-78.2996\"/>\r\n",
       "</g>\r\n",
       "<!-- 6 -->\r\n",
       "<g id=\"node7\" class=\"node\"><title>6</title>\r\n",
       "<polygon fill=\"#e6853f\" stroke=\"black\" points=\"375,-68 262,-68 262,-0 375,-0 375,-68\"/>\r\n",
       "<text text-anchor=\"middle\" x=\"318.5\" y=\"-52.8\" font-family=\"Times New Roman,serif\" font-size=\"14.00\">gini = 0.055</text>\r\n",
       "<text text-anchor=\"middle\" x=\"318.5\" y=\"-37.8\" font-family=\"Times New Roman,serif\" font-size=\"14.00\">samples = 600</text>\r\n",
       "<text text-anchor=\"middle\" x=\"318.5\" y=\"-22.8\" font-family=\"Times New Roman,serif\" font-size=\"14.00\">value = [583, 17]</text>\r\n",
       "<text text-anchor=\"middle\" x=\"318.5\" y=\"-7.8\" font-family=\"Times New Roman,serif\" font-size=\"14.00\">class = no stroke</text>\r\n",
       "</g>\r\n",
       "<!-- 5&#45;&gt;6 -->\r\n",
       "<g id=\"edge6\" class=\"edge\"><title>5&#45;&gt;6</title>\r\n",
       "<path fill=\"none\" stroke=\"black\" d=\"M380.636,-103.726C372.39,-94.6054 363.642,-84.93 355.395,-75.8078\"/>\r\n",
       "<polygon fill=\"black\" stroke=\"black\" points=\"357.909,-73.3701 348.606,-68.2996 352.717,-78.0647 357.909,-73.3701\"/>\r\n",
       "</g>\r\n",
       "<!-- 7 -->\r\n",
       "<g id=\"node8\" class=\"node\"><title>7</title>\r\n",
       "<polygon fill=\"#e78b49\" stroke=\"black\" points=\"506,-68 393,-68 393,-0 506,-0 506,-68\"/>\r\n",
       "<text text-anchor=\"middle\" x=\"449.5\" y=\"-52.8\" font-family=\"Times New Roman,serif\" font-size=\"14.00\">gini = 0.135</text>\r\n",
       "<text text-anchor=\"middle\" x=\"449.5\" y=\"-37.8\" font-family=\"Times New Roman,serif\" font-size=\"14.00\">samples = 397</text>\r\n",
       "<text text-anchor=\"middle\" x=\"449.5\" y=\"-22.8\" font-family=\"Times New Roman,serif\" font-size=\"14.00\">value = [368, 29]</text>\r\n",
       "<text text-anchor=\"middle\" x=\"449.5\" y=\"-7.8\" font-family=\"Times New Roman,serif\" font-size=\"14.00\">class = no stroke</text>\r\n",
       "</g>\r\n",
       "<!-- 5&#45;&gt;7 -->\r\n",
       "<g id=\"edge7\" class=\"edge\"><title>5&#45;&gt;7</title>\r\n",
       "<path fill=\"none\" stroke=\"black\" d=\"M429.416,-103.726C431.868,-95.3351 434.457,-86.4745 436.932,-78.0072\"/>\r\n",
       "<polygon fill=\"black\" stroke=\"black\" points=\"440.323,-78.8799 439.769,-68.2996 433.604,-76.9163 440.323,-78.8799\"/>\r\n",
       "</g>\r\n",
       "<!-- 9 -->\r\n",
       "<g id=\"node10\" class=\"node\"><title>9</title>\r\n",
       "<polygon fill=\"#e99456\" stroke=\"black\" points=\"669,-187 556,-187 556,-104 669,-104 669,-187\"/>\r\n",
       "<text text-anchor=\"middle\" x=\"612.5\" y=\"-171.8\" font-family=\"Times New Roman,serif\" font-size=\"14.00\">age &lt;= 79.5</text>\r\n",
       "<text text-anchor=\"middle\" x=\"612.5\" y=\"-156.8\" font-family=\"Times New Roman,serif\" font-size=\"14.00\">gini = 0.225</text>\r\n",
       "<text text-anchor=\"middle\" x=\"612.5\" y=\"-141.8\" font-family=\"Times New Roman,serif\" font-size=\"14.00\">samples = 433</text>\r\n",
       "<text text-anchor=\"middle\" x=\"612.5\" y=\"-126.8\" font-family=\"Times New Roman,serif\" font-size=\"14.00\">value = [377, 56]</text>\r\n",
       "<text text-anchor=\"middle\" x=\"612.5\" y=\"-111.8\" font-family=\"Times New Roman,serif\" font-size=\"14.00\">class = no stroke</text>\r\n",
       "</g>\r\n",
       "<!-- 8&#45;&gt;9 -->\r\n",
       "<g id=\"edge9\" class=\"edge\"><title>8&#45;&gt;9</title>\r\n",
       "<path fill=\"none\" stroke=\"black\" d=\"M612.5,-222.907C612.5,-214.649 612.5,-205.864 612.5,-197.302\"/>\r\n",
       "<polygon fill=\"black\" stroke=\"black\" points=\"616,-197.021 612.5,-187.021 609,-197.021 616,-197.021\"/>\r\n",
       "</g>\r\n",
       "<!-- 12 -->\r\n",
       "<g id=\"node13\" class=\"node\"><title>12</title>\r\n",
       "<polygon fill=\"#eead7e\" stroke=\"black\" points=\"932.5,-187 752.5,-187 752.5,-104 932.5,-104 932.5,-187\"/>\r\n",
       "<text text-anchor=\"middle\" x=\"842.5\" y=\"-171.8\" font-family=\"Times New Roman,serif\" font-size=\"14.00\">avg_glucose_level &lt;= 239.31</text>\r\n",
       "<text text-anchor=\"middle\" x=\"842.5\" y=\"-156.8\" font-family=\"Times New Roman,serif\" font-size=\"14.00\">gini = 0.384</text>\r\n",
       "<text text-anchor=\"middle\" x=\"842.5\" y=\"-141.8\" font-family=\"Times New Roman,serif\" font-size=\"14.00\">samples = 139</text>\r\n",
       "<text text-anchor=\"middle\" x=\"842.5\" y=\"-126.8\" font-family=\"Times New Roman,serif\" font-size=\"14.00\">value = [103, 36]</text>\r\n",
       "<text text-anchor=\"middle\" x=\"842.5\" y=\"-111.8\" font-family=\"Times New Roman,serif\" font-size=\"14.00\">class = no stroke</text>\r\n",
       "</g>\r\n",
       "<!-- 8&#45;&gt;12 -->\r\n",
       "<g id=\"edge12\" class=\"edge\"><title>8&#45;&gt;12</title>\r\n",
       "<path fill=\"none\" stroke=\"black\" d=\"M677.18,-230.598C700.951,-218.505 728.295,-204.596 753.812,-191.615\"/>\r\n",
       "<polygon fill=\"black\" stroke=\"black\" points=\"755.427,-194.721 762.753,-187.067 752.253,-188.481 755.427,-194.721\"/>\r\n",
       "</g>\r\n",
       "<!-- 10 -->\r\n",
       "<g id=\"node11\" class=\"node\"><title>10</title>\r\n",
       "<polygon fill=\"#e89051\" stroke=\"black\" points=\"637,-68 524,-68 524,-0 637,-0 637,-68\"/>\r\n",
       "<text text-anchor=\"middle\" x=\"580.5\" y=\"-52.8\" font-family=\"Times New Roman,serif\" font-size=\"14.00\">gini = 0.19</text>\r\n",
       "<text text-anchor=\"middle\" x=\"580.5\" y=\"-37.8\" font-family=\"Times New Roman,serif\" font-size=\"14.00\">samples = 348</text>\r\n",
       "<text text-anchor=\"middle\" x=\"580.5\" y=\"-22.8\" font-family=\"Times New Roman,serif\" font-size=\"14.00\">value = [311, 37]</text>\r\n",
       "<text text-anchor=\"middle\" x=\"580.5\" y=\"-7.8\" font-family=\"Times New Roman,serif\" font-size=\"14.00\">class = no stroke</text>\r\n",
       "</g>\r\n",
       "<!-- 9&#45;&gt;10 -->\r\n",
       "<g id=\"edge10\" class=\"edge\"><title>9&#45;&gt;10</title>\r\n",
       "<path fill=\"none\" stroke=\"black\" d=\"M600.584,-103.726C598.132,-95.3351 595.543,-86.4745 593.068,-78.0072\"/>\r\n",
       "<polygon fill=\"black\" stroke=\"black\" points=\"596.396,-76.9163 590.231,-68.2996 589.677,-78.8799 596.396,-76.9163\"/>\r\n",
       "</g>\r\n",
       "<!-- 11 -->\r\n",
       "<g id=\"node12\" class=\"node\"><title>11</title>\r\n",
       "<polygon fill=\"#eca572\" stroke=\"black\" points=\"768,-68 655,-68 655,-0 768,-0 768,-68\"/>\r\n",
       "<text text-anchor=\"middle\" x=\"711.5\" y=\"-52.8\" font-family=\"Times New Roman,serif\" font-size=\"14.00\">gini = 0.347</text>\r\n",
       "<text text-anchor=\"middle\" x=\"711.5\" y=\"-37.8\" font-family=\"Times New Roman,serif\" font-size=\"14.00\">samples = 85</text>\r\n",
       "<text text-anchor=\"middle\" x=\"711.5\" y=\"-22.8\" font-family=\"Times New Roman,serif\" font-size=\"14.00\">value = [66, 19]</text>\r\n",
       "<text text-anchor=\"middle\" x=\"711.5\" y=\"-7.8\" font-family=\"Times New Roman,serif\" font-size=\"14.00\">class = no stroke</text>\r\n",
       "</g>\r\n",
       "<!-- 9&#45;&gt;11 -->\r\n",
       "<g id=\"edge11\" class=\"edge\"><title>9&#45;&gt;11</title>\r\n",
       "<path fill=\"none\" stroke=\"black\" d=\"M649.364,-103.726C657.61,-94.6054 666.358,-84.93 674.605,-75.8078\"/>\r\n",
       "<polygon fill=\"black\" stroke=\"black\" points=\"677.283,-78.0647 681.394,-68.2996 672.091,-73.3701 677.283,-78.0647\"/>\r\n",
       "</g>\r\n",
       "<!-- 13 -->\r\n",
       "<g id=\"node14\" class=\"node\"><title>13</title>\r\n",
       "<polygon fill=\"#eda774\" stroke=\"black\" points=\"899,-68 786,-68 786,-0 899,-0 899,-68\"/>\r\n",
       "<text text-anchor=\"middle\" x=\"842.5\" y=\"-52.8\" font-family=\"Times New Roman,serif\" font-size=\"14.00\">gini = 0.355</text>\r\n",
       "<text text-anchor=\"middle\" x=\"842.5\" y=\"-37.8\" font-family=\"Times New Roman,serif\" font-size=\"14.00\">samples = 130</text>\r\n",
       "<text text-anchor=\"middle\" x=\"842.5\" y=\"-22.8\" font-family=\"Times New Roman,serif\" font-size=\"14.00\">value = [100, 30]</text>\r\n",
       "<text text-anchor=\"middle\" x=\"842.5\" y=\"-7.8\" font-family=\"Times New Roman,serif\" font-size=\"14.00\">class = no stroke</text>\r\n",
       "</g>\r\n",
       "<!-- 12&#45;&gt;13 -->\r\n",
       "<g id=\"edge13\" class=\"edge\"><title>12&#45;&gt;13</title>\r\n",
       "<path fill=\"none\" stroke=\"black\" d=\"M842.5,-103.726C842.5,-95.5175 842.5,-86.8595 842.5,-78.56\"/>\r\n",
       "<polygon fill=\"black\" stroke=\"black\" points=\"846,-78.2996 842.5,-68.2996 839,-78.2996 846,-78.2996\"/>\r\n",
       "</g>\r\n",
       "<!-- 14 -->\r\n",
       "<g id=\"node15\" class=\"node\"><title>14</title>\r\n",
       "<polygon fill=\"#9ccef2\" stroke=\"black\" points=\"1012,-68 917,-68 917,-0 1012,-0 1012,-68\"/>\r\n",
       "<text text-anchor=\"middle\" x=\"964.5\" y=\"-52.8\" font-family=\"Times New Roman,serif\" font-size=\"14.00\">gini = 0.444</text>\r\n",
       "<text text-anchor=\"middle\" x=\"964.5\" y=\"-37.8\" font-family=\"Times New Roman,serif\" font-size=\"14.00\">samples = 9</text>\r\n",
       "<text text-anchor=\"middle\" x=\"964.5\" y=\"-22.8\" font-family=\"Times New Roman,serif\" font-size=\"14.00\">value = [3, 6]</text>\r\n",
       "<text text-anchor=\"middle\" x=\"964.5\" y=\"-7.8\" font-family=\"Times New Roman,serif\" font-size=\"14.00\">class = stroke</text>\r\n",
       "</g>\r\n",
       "<!-- 12&#45;&gt;14 -->\r\n",
       "<g id=\"edge14\" class=\"edge\"><title>12&#45;&gt;14</title>\r\n",
       "<path fill=\"none\" stroke=\"black\" d=\"M887.928,-103.726C898.395,-94.3318 909.518,-84.349 919.947,-74.9883\"/>\r\n",
       "<polygon fill=\"black\" stroke=\"black\" points=\"922.295,-77.5839 927.399,-68.2996 917.619,-72.3744 922.295,-77.5839\"/>\r\n",
       "</g>\r\n",
       "</g>\r\n",
       "</svg>\r\n"
      ],
      "text/plain": [
       "<graphviz.files.Source at 0x192a7d2dac8>"
      ]
     },
     "metadata": {},
     "output_type": "display_data"
    }
   ],
   "source": [
    "# Add best params into the function\n",
    "tree = DecisionTreeClassifier(**best_params)\n",
    "tree_fit = tree.fit(x_train, y_train)\n",
    "\n",
    "display(graphviz.Source(export_graphviz(tree_fit, feature_names = df.columns[:-1], filled = True, class_names = (\"no stroke\", \"stroke\"))))"
   ]
  },
  {
   "cell_type": "code",
   "execution_count": 10,
   "metadata": {},
   "outputs": [
    {
     "name": "stdout",
     "output_type": "stream",
     "text": [
      "Model: ROC AUC=0.822\n"
     ]
    },
    {
     "data": {
      "image/png": "[encoded data removed]",
      "text/plain": [
       "<Figure size 432x288 with 1 Axes>"
      ]
     },
     "metadata": {
      "needs_background": "light"
     },
     "output_type": "display_data"
    }
   ],
   "source": [
    "roc(model_fit = tree_fit, x_test = x_test, y_test = y_test)"
   ]
  },
  {
   "cell_type": "code",
   "execution_count": 11,
   "metadata": {},
   "outputs": [
    {
     "name": "stdout",
     "output_type": "stream",
     "text": [
      "Model: f1=0.000 auc=0.115\n"
     ]
    },
    {
     "data": {
      "image/png": "[encoded data removed]",
      "text/plain": [
       "<Figure size 432x288 with 1 Axes>"
      ]
     },
     "metadata": {
      "needs_background": "light"
     },
     "output_type": "display_data"
    }
   ],
   "source": [
    "precision_recall(model_fit = tree_fit, x_test = x_test, y_test = y_test)"
   ]
  },
  {
   "cell_type": "code",
   "execution_count": 12,
   "metadata": {},
   "outputs": [
    {
     "name": "stdout",
     "output_type": "stream",
     "text": [
      "Train errors:\n",
      "\n",
      "accuracy:  0.9577874818049491\n",
      "precision:  0.6666666666666666\n",
      "recall:  0.04054054054054054\n",
      "f1:  0.07643312101910829\n",
      "\n",
      "Test errors:\n",
      "\n",
      "accuracy:  0.957909029192125\n",
      "precision:  0.0\n",
      "recall:  0.0\n",
      "f1:  0.0\n"
     ]
    },
    {
     "data": {
      "image/png": "[encoded data removed]",
      "text/plain": [
       "<Figure size 432x288 with 2 Axes>"
      ]
     },
     "metadata": {
      "needs_background": "light"
     },
     "output_type": "display_data"
    }
   ],
   "source": [
    "train_error(model_fit = tree_fit)\n",
    "test_error(model_fit = tree_fit)"
   ]
  },
  {
   "cell_type": "markdown",
   "metadata": {},
   "source": [
    "We have too many false negatives. Dangerous! Maybe use \"recall\" as measure with this dataset? Or f1? Accuracy is good in cases where we have equal size classes and false negatives and false positives are of equal importance. Prediction is good when we want to minimize the cases of true positives. Recall is good when we want to minimize the cases of false negatives. F1 takes into account both precision and recall. In our case it might be better to predict that someone will have a stroke even if that will not be the case, compared to the opposite.\n",
    "\n",
    "\\begin{align*}\n",
    "    \\text{accuracy} = \\frac{\\text{tp + tn}}{\\text{tp + tn + fn + fp}}\n",
    "\\end{align*}\n",
    "\n",
    "\\begin{align*}\n",
    "    \\text{precision} = \\frac{\\text{tp}}{\\text{tp + fp}}\n",
    "\\end{align*}\n",
    "\n",
    "\\begin{align*}\n",
    "    \\text{recall} = \\frac{\\text{tp}}{\\text{tp + fn}}\n",
    "\\end{align*}\n",
    "\n",
    "\\begin{align*}\n",
    "    \\text{f1} = \\frac{2\\cdot \\text{precision} \\cdot \\text{recall}}{\\text{precision + recall}}\n",
    "\\end{align*}\n",
    "\n",
    "Accuracy is around $95\\%$ with a single deicison tree. If we do grid search with regards to accuracy, all the other measures becomes zero.\n",
    "\n",
    "Future: add some plots of the hyperparameter tuning process maybe?"
   ]
  },
  {
   "cell_type": "markdown",
   "metadata": {},
   "source": [
    "### Random Forest\n",
    "\n",
    "Try to fit a random forest model to the stroke classification problem. Use cross-validation grid search to find the optimal parameters."
   ]
  },
  {
   "cell_type": "code",
   "execution_count": 13,
   "metadata": {},
   "outputs": [
    {
     "name": "stdout",
     "output_type": "stream",
     "text": [
      "{'max_depth': 8, 'max_features': 'sqrt', 'n_estimators': 50}\n"
     ]
    }
   ],
   "source": [
    "np.random.seed(41)\n",
    "warnings.filterwarnings('ignore')\n",
    "\n",
    "parameters = {'n_estimators': [10, 30, 50, 100],\n",
    "              'max_features': (2, 'sqrt', 8, 12),\n",
    "              'max_depth': range(1, 10, 1)}\n",
    "\n",
    "clf = GridSearchCV(estimator = RandomForestClassifier(random_state=41,\n",
    "                                                      criterion='gini',\n",
    "                                                      bootstrap=True,\n",
    "                                                      oob_score=False),\n",
    "                  param_grid = parameters,\n",
    "                  scoring = \"accuracy\",\n",
    "                  cv = 5,\n",
    "                  return_train_score = True)\n",
    "\n",
    "clf = clf.fit(x_train, y_train)\n",
    "results = clf.cv_results_\n",
    "best_params = clf.best_params_\n",
    "print(best_params)\n",
    "\n",
    "warnings.filterwarnings('always')"
   ]
  },
  {
   "cell_type": "code",
   "execution_count": 14,
   "metadata": {},
   "outputs": [
    {
     "name": "stdout",
     "output_type": "stream",
     "text": [
      "Train errors:\n",
      "\n",
      "accuracy:  0.9624454148471616\n",
      "precision:  1.0\n",
      "recall:  0.12837837837837837\n",
      "f1:  0.22754491017964074\n",
      "\n",
      "Test errors:\n",
      "\n",
      "accuracy:  0.9585879158180584\n",
      "precision:  0.0\n",
      "recall:  0.0\n",
      "f1:  0.0\n"
     ]
    },
    {
     "name": "stderr",
     "output_type": "stream",
     "text": [
      "C:\\Users\\elveb\\Anaconda3\\lib\\site-packages\\sklearn\\metrics\\_classification.py:1245: UndefinedMetricWarning: Precision is ill-defined and being set to 0.0 due to no predicted samples. Use `zero_division` parameter to control this behavior.\n",
      "  _warn_prf(average, modifier, msg_start, len(result))\n"
     ]
    },
    {
     "data": {
      "image/png": "[encoded data removed]",
      "text/plain": [
       "<Figure size 432x288 with 2 Axes>"
      ]
     },
     "metadata": {
      "needs_background": "light"
     },
     "output_type": "display_data"
    }
   ],
   "source": [
    "rf = RandomForestClassifier(**best_params)\n",
    "rf_fit = rf.fit(x_train, y_train)\n",
    "\n",
    "train_error(model_fit = rf_fit)\n",
    "test_error(model_fit = rf_fit)"
   ]
  },
  {
   "cell_type": "code",
   "execution_count": 15,
   "metadata": {},
   "outputs": [
    {
     "name": "stdout",
     "output_type": "stream",
     "text": [
      "Model: ROC AUC=0.800\n"
     ]
    },
    {
     "data": {
      "image/png": "[encoded data removed]",
      "text/plain": [
       "<Figure size 432x288 with 1 Axes>"
      ]
     },
     "metadata": {
      "needs_background": "light"
     },
     "output_type": "display_data"
    }
   ],
   "source": [
    "roc(model_fit = rf_fit, x_test = x_test, y_test = y_test)"
   ]
  },
  {
   "cell_type": "code",
   "execution_count": 16,
   "metadata": {},
   "outputs": [
    {
     "name": "stdout",
     "output_type": "stream",
     "text": [
      "Model: f1=0.000 auc=0.132\n"
     ]
    },
    {
     "data": {
      "image/png": "[encoded data removed]",
      "text/plain": [
       "<Figure size 432x288 with 1 Axes>"
      ]
     },
     "metadata": {
      "needs_background": "light"
     },
     "output_type": "display_data"
    }
   ],
   "source": [
    "precision_recall(model_fit = rf_fit, x_test = x_test, y_test = y_test)"
   ]
  },
  {
   "cell_type": "markdown",
   "metadata": {},
   "source": [
    "### Weighted Random Forest\n",
    "\n",
    "Try a weighted random forest to even out the imbalanced classes. The weighted random forest works bu changing the weight the each class has when calculating the impurity score at each split. When the data has a skewed class distribution the impurity calculating becomes biased such that false negatives for the majority class is permitted.\n",
    "\n",
    "From using random forest to learn imbalanced data: Another approach to make random forest more suitable for learning from extremely imbalanced data follows the idea of cost sensitive learning. Since the RF classifier tends to be biased towards the majority class, we shall place a heavier penalty on misclassifying the minority class.\n",
    "\n",
    "In python this can easily be achieved by using argument \"class_weight\". The value \"balanced\" uses the inverse weighting from the training dataset, giving focus to the minority class. Using the value \"balanced_subsample\" instead, the class weighting changes based on the class distribution in each bootstrap sample, instead of the entire dataset. As we expect the bootstrap samples to contain even fewer classifications of stroke, we use the \"balance_subsample value\" when training the weighted random forest."
   ]
  },
  {
   "cell_type": "code",
   "execution_count": 17,
   "metadata": {},
   "outputs": [
    {
     "name": "stdout",
     "output_type": "stream",
     "text": [
      "{'max_depth': 1, 'max_features': 2, 'n_estimators': 10}\n"
     ]
    }
   ],
   "source": [
    "np.random.seed(41)\n",
    "warnings.filterwarnings('ignore')\n",
    "\n",
    "parameters = {'n_estimators': [10, 30, 50],\n",
    "              'max_features': (2, 'sqrt', 8),\n",
    "              'max_depth': range(1, 3, 1)}\n",
    "\n",
    "clf = GridSearchCV(estimator = RandomForestClassifier(random_state=41,\n",
    "                                                      criterion='gini',\n",
    "                                                      class_weight = 'balanced_subsample',\n",
    "                                                      bootstrap=True,\n",
    "                                                      oob_score=False),\n",
    "                  param_grid = parameters,\n",
    "                  scoring = \"accuracy\",\n",
    "                  cv = 5,\n",
    "                  return_train_score = True)\n",
    "\n",
    "clf = clf.fit(x_train, y_train)\n",
    "results = clf.cv_results_\n",
    "best_params = clf.best_params_\n",
    "print(best_params)\n",
    "\n",
    "warnings.filterwarnings('always')"
   ]
  },
  {
   "cell_type": "code",
   "execution_count": 18,
   "metadata": {},
   "outputs": [
    {
     "name": "stdout",
     "output_type": "stream",
     "text": [
      "Train errors:\n",
      "\n",
      "accuracy:  0.9569141193595342\n",
      "precision:  0.0\n",
      "recall:  0.0\n",
      "f1:  0.0\n",
      "\n",
      "Test errors:\n",
      "\n",
      "accuracy:  0.9585879158180584\n",
      "precision:  0.0\n",
      "recall:  0.0\n",
      "f1:  0.0\n"
     ]
    },
    {
     "name": "stderr",
     "output_type": "stream",
     "text": [
      "C:\\Users\\elveb\\Anaconda3\\lib\\site-packages\\sklearn\\metrics\\_classification.py:1245: UndefinedMetricWarning: Precision is ill-defined and being set to 0.0 due to no predicted samples. Use `zero_division` parameter to control this behavior.\n",
      "  _warn_prf(average, modifier, msg_start, len(result))\n",
      "C:\\Users\\elveb\\Anaconda3\\lib\\site-packages\\sklearn\\metrics\\_classification.py:1245: UndefinedMetricWarning: Precision is ill-defined and being set to 0.0 due to no predicted samples. Use `zero_division` parameter to control this behavior.\n",
      "  _warn_prf(average, modifier, msg_start, len(result))\n"
     ]
    },
    {
     "data": {
      "image/png": "[encoded data removed]",
      "text/plain": [
       "<Figure size 432x288 with 2 Axes>"
      ]
     },
     "metadata": {
      "needs_background": "light"
     },
     "output_type": "display_data"
    }
   ],
   "source": [
    "wrf = RandomForestClassifier(**best_params)\n",
    "wrf_fit = wrf.fit(x_train, y_train)\n",
    "\n",
    "train_error(model_fit = wrf_fit)\n",
    "test_error(model_fit = wrf_fit)"
   ]
  },
  {
   "cell_type": "code",
   "execution_count": 19,
   "metadata": {},
   "outputs": [
    {
     "name": "stdout",
     "output_type": "stream",
     "text": [
      "Model: ROC AUC=0.784\n"
     ]
    },
    {
     "data": {
      "image/png": "[encoded data removed]",
      "text/plain": [
       "<Figure size 432x288 with 1 Axes>"
      ]
     },
     "metadata": {
      "needs_background": "light"
     },
     "output_type": "display_data"
    }
   ],
   "source": [
    "roc(model_fit = wrf_fit, x_test = x_test, y_test = y_test)"
   ]
  },
  {
   "cell_type": "code",
   "execution_count": 20,
   "metadata": {},
   "outputs": [
    {
     "name": "stdout",
     "output_type": "stream",
     "text": [
      "Model: f1=0.000 auc=0.125\n"
     ]
    },
    {
     "data": {
      "image/png": "[encoded data removed]",
      "text/plain": [
       "<Figure size 432x288 with 1 Axes>"
      ]
     },
     "metadata": {
      "needs_background": "light"
     },
     "output_type": "display_data"
    }
   ],
   "source": [
    "precision_recall(model_fit = wrf_fit, x_test = x_test, y_test = y_test)"
   ]
  },
  {
   "cell_type": "markdown",
   "metadata": {},
   "source": [
    "### Balanced Random Forest\n",
    "\n",
    "We get a small improvement in the wrf compared to the rf. An even bigger improvement can be made if we use the Balanced Random Forest. The method works by randomly undersampling from the majority class during the bootstrap sampling.  \n",
    "\n",
    "The implementation of the BRF is from a python library called imbalanced-learn which offers a number of resampling techniques commenyl used in datasets showing strong between-class imbalance: https://pypi.org/project/imbalanced-learn/."
   ]
  },
  {
   "cell_type": "code",
   "execution_count": 21,
   "metadata": {},
   "outputs": [
    {
     "name": "stdout",
     "output_type": "stream",
     "text": [
      "{'max_depth': 2, 'max_features': 2, 'n_estimators': 10}\n"
     ]
    }
   ],
   "source": [
    "np.random.seed(41)\n",
    "\n",
    "parameters = {'n_estimators': [10, 30, 50],\n",
    "              'max_features': (2, 'sqrt', 8),\n",
    "              'max_depth': range(1, 3, 1)}\n",
    "\n",
    "clf = GridSearchCV(estimator = BalancedRandomForestClassifier(random_state=41,\n",
    "                                                              criterion='gini',\n",
    "                                                              class_weight = 'balanced_subsample',\n",
    "                                                              bootstrap=True,\n",
    "                                                              oob_score=False),\n",
    "                  param_grid = parameters,\n",
    "                  scoring = \"accuracy\",\n",
    "                  cv = 5,\n",
    "                  return_train_score = True)\n",
    "\n",
    "clf = clf.fit(x_train, y_train)\n",
    "results = clf.cv_results_\n",
    "best_params = clf.best_params_\n",
    "print(best_params)"
   ]
  },
  {
   "cell_type": "code",
   "execution_count": 22,
   "metadata": {},
   "outputs": [
    {
     "name": "stdout",
     "output_type": "stream",
     "text": [
      "Train errors:\n",
      "\n",
      "accuracy:  0.9569141193595342\n",
      "precision:  0.0\n",
      "recall:  0.0\n",
      "f1:  0.0\n",
      "\n",
      "Test errors:\n",
      "\n",
      "accuracy:  0.9585879158180584\n",
      "precision:  0.0\n",
      "recall:  0.0\n",
      "f1:  0.0\n"
     ]
    },
    {
     "name": "stderr",
     "output_type": "stream",
     "text": [
      "C:\\Users\\elveb\\Anaconda3\\lib\\site-packages\\sklearn\\metrics\\_classification.py:1245: UndefinedMetricWarning: Precision is ill-defined and being set to 0.0 due to no predicted samples. Use `zero_division` parameter to control this behavior.\n",
      "  _warn_prf(average, modifier, msg_start, len(result))\n",
      "C:\\Users\\elveb\\Anaconda3\\lib\\site-packages\\sklearn\\metrics\\_classification.py:1245: UndefinedMetricWarning: Precision is ill-defined and being set to 0.0 due to no predicted samples. Use `zero_division` parameter to control this behavior.\n",
      "  _warn_prf(average, modifier, msg_start, len(result))\n"
     ]
    },
    {
     "data": {
      "image/png": "[encoded data removed]",
      "text/plain": [
       "<Figure size 432x288 with 2 Axes>"
      ]
     },
     "metadata": {
      "needs_background": "light"
     },
     "output_type": "display_data"
    }
   ],
   "source": [
    "brf = RandomForestClassifier(**best_params)\n",
    "brf_fit = brf.fit(x_train, y_train)\n",
    "\n",
    "train_error(model_fit = brf_fit)\n",
    "test_error(model_fit = brf_fit)"
   ]
  },
  {
   "cell_type": "code",
   "execution_count": 23,
   "metadata": {},
   "outputs": [
    {
     "name": "stdout",
     "output_type": "stream",
     "text": [
      "Model: ROC AUC=0.794\n"
     ]
    },
    {
     "data": {
      "image/png": "[encoded data removed]",
      "text/plain": [
       "<Figure size 432x288 with 1 Axes>"
      ]
     },
     "metadata": {
      "needs_background": "light"
     },
     "output_type": "display_data"
    }
   ],
   "source": [
    "roc(model_fit = brf_fit, x_test = x_test, y_test = y_test)"
   ]
  },
  {
   "cell_type": "code",
   "execution_count": 24,
   "metadata": {},
   "outputs": [
    {
     "name": "stdout",
     "output_type": "stream",
     "text": [
      "Model: f1=0.000 auc=0.121\n"
     ]
    },
    {
     "data": {
      "image/png": "[encoded data removed]",
      "text/plain": [
       "<Figure size 432x288 with 1 Axes>"
      ]
     },
     "metadata": {
      "needs_background": "light"
     },
     "output_type": "display_data"
    }
   ],
   "source": [
    "precision_recall(model_fit = brf_fit, x_test = x_test, y_test = y_test)"
   ]
  },
  {
   "cell_type": "markdown",
   "metadata": {},
   "source": [
    "### Gradient boosting"
   ]
  },
  {
   "cell_type": "code",
   "execution_count": 25,
   "metadata": {},
   "outputs": [
    {
     "name": "stdout",
     "output_type": "stream",
     "text": [
      "Train errors:\n",
      "\n",
      "accuracy:  0.9665211062590975\n",
      "precision:  1.0\n",
      "recall:  0.22297297297297297\n",
      "f1:  0.3646408839779005\n",
      "\n",
      "Test errors:\n",
      "\n",
      "accuracy:  0.9545145960624576\n",
      "precision:  0.0\n",
      "recall:  0.0\n",
      "f1:  0.0\n"
     ]
    },
    {
     "data": {
      "image/png": "[encoded data removed]",
      "text/plain": [
       "<Figure size 432x288 with 2 Axes>"
      ]
     },
     "metadata": {
      "needs_background": "light"
     },
     "output_type": "display_data"
    }
   ],
   "source": [
    "gb = GradientBoostingClassifier(random_state = 41)\n",
    "gb_fit = gb.fit(x_train, y_train)\n",
    "\n",
    "train_error(model_fit = gb_fit)\n",
    "test_error(model_fit = gb_fit)"
   ]
  },
  {
   "cell_type": "markdown",
   "metadata": {},
   "source": [
    "### XgBoost\n",
    "\n",
    "Try to implement XGBoost to make performance better."
   ]
  },
  {
   "cell_type": "code",
   "execution_count": 27,
   "metadata": {},
   "outputs": [
    {
     "name": "stderr",
     "output_type": "stream",
     "text": [
      "C:\\Users\\elveb\\Anaconda3\\lib\\site-packages\\xgboost\\sklearn.py:888: UserWarning: The use of label encoder in XGBClassifier is deprecated and will be removed in a future release. To remove this warning, do the following: 1) Pass option use_label_encoder=False when constructing XGBClassifier object; and 2) Encode your labels (y) as integers starting with 0, i.e. 0, 1, 2, ..., [num_class - 1].\n",
      "  warnings.warn(label_encoder_deprecation_msg, UserWarning)\n"
     ]
    },
    {
     "name": "stdout",
     "output_type": "stream",
     "text": [
      "[09:11:46] WARNING: ..\\src\\learner.cc:1061: Starting in XGBoost 1.3.0, the default evaluation metric used with the objective 'binary:logistic' was changed from 'error' to 'logloss'. Explicitly set eval_metric if you'd like to restore the old behavior.\n",
      "Train errors:\n",
      "\n",
      "accuracy:  0.9697234352256187\n",
      "precision:  1.0\n",
      "recall:  0.2972972972972973\n",
      "f1:  0.4583333333333333\n",
      "\n",
      "Test errors:\n",
      "\n",
      "accuracy:  0.9531568228105907\n",
      "precision:  0.1\n",
      "recall:  0.01639344262295082\n",
      "f1:  0.028169014084507043\n"
     ]
    },
    {
     "data": {
      "image/png": "[encoded data removed]",
      "text/plain": [
       "<Figure size 432x288 with 2 Axes>"
      ]
     },
     "metadata": {
      "needs_background": "light"
     },
     "output_type": "display_data"
    }
   ],
   "source": [
    "xgb_model = xgb.XGBClassifier(n_estimators = 100,\n",
    "                       reg_lambda = 1,\n",
    "                       gamma = 0,\n",
    "                       max_depth = 3)\n",
    "xgb_fit = xgb_model.fit(x_train, y_train)\n",
    "\n",
    "train_error(model_fit = xgb_fit)\n",
    "test_error(model_fit = xgb_fit)"
   ]
  },
  {
   "cell_type": "code",
   "execution_count": 28,
   "metadata": {},
   "outputs": [
    {
     "data": {
      "text/html": [
       "<div>\n",
       "<style scoped>\n",
       "    .dataframe tbody tr th:only-of-type {\n",
       "        vertical-align: middle;\n",
       "    }\n",
       "\n",
       "    .dataframe tbody tr th {\n",
       "        vertical-align: top;\n",
       "    }\n",
       "\n",
       "    .dataframe thead th {\n",
       "        text-align: right;\n",
       "    }\n",
       "</style>\n",
       "<table border=\"1\" class=\"dataframe\">\n",
       "  <thead>\n",
       "    <tr style=\"text-align: right;\">\n",
       "      <th></th>\n",
       "      <th>gender</th>\n",
       "      <th>age</th>\n",
       "      <th>hypertension</th>\n",
       "      <th>heart_disease</th>\n",
       "      <th>ever_married</th>\n",
       "      <th>residence_type</th>\n",
       "      <th>avg_glucose_level</th>\n",
       "      <th>bmi</th>\n",
       "      <th>govt_job</th>\n",
       "      <th>never_worked</th>\n",
       "      <th>private</th>\n",
       "      <th>self-employed</th>\n",
       "      <th>children</th>\n",
       "      <th>never_smoked</th>\n",
       "      <th>formerly_smoked</th>\n",
       "      <th>smokes</th>\n",
       "      <th>unknown_smoker</th>\n",
       "    </tr>\n",
       "  </thead>\n",
       "  <tbody>\n",
       "    <tr>\n",
       "      <th>0</th>\n",
       "      <td>0.08172</td>\n",
       "      <td>0.158052</td>\n",
       "      <td>0.088579</td>\n",
       "      <td>0.089186</td>\n",
       "      <td>0.058376</td>\n",
       "      <td>0.072123</td>\n",
       "      <td>0.056278</td>\n",
       "      <td>0.059448</td>\n",
       "      <td>0.063808</td>\n",
       "      <td>0.0</td>\n",
       "      <td>0.048306</td>\n",
       "      <td>0.047325</td>\n",
       "      <td>0.0</td>\n",
       "      <td>0.092377</td>\n",
       "      <td>0.008814</td>\n",
       "      <td>0.02756</td>\n",
       "      <td>0.048047</td>\n",
       "    </tr>\n",
       "  </tbody>\n",
       "</table>\n",
       "</div>"
      ],
      "text/plain": [
       "    gender       age  hypertension  heart_disease  ever_married  \\\n",
       "0  0.08172  0.158052      0.088579       0.089186      0.058376   \n",
       "\n",
       "   residence_type  avg_glucose_level       bmi  govt_job  never_worked  \\\n",
       "0        0.072123           0.056278  0.059448  0.063808           0.0   \n",
       "\n",
       "    private  self-employed  children  never_smoked  formerly_smoked   smokes  \\\n",
       "0  0.048306       0.047325       0.0      0.092377         0.008814  0.02756   \n",
       "\n",
       "   unknown_smoker  \n",
       "0        0.048047  "
      ]
     },
     "execution_count": 28,
     "metadata": {},
     "output_type": "execute_result"
    }
   ],
   "source": [
    "# Importance of each feature\n",
    "\n",
    "pd.DataFrame(xgb_model.feature_importances_.reshape(1, -1), columns=df.columns[:-1])"
   ]
  },
  {
   "cell_type": "markdown",
   "metadata": {},
   "source": [
    "### Interpreting the results: XAI\n",
    "\n",
    "Which packages do we need to do this? pdpbox, alepython, lime...\n",
    "\n",
    "Global methods:\n",
    "* Linear model (standardized coeffs, shapley regression)\n",
    "* XGBoost/RF (gini importance)\n",
    "* Partial dependence plots\n",
    "* ALE plots\n",
    "\n",
    "Local methods:\n",
    "* LIME\n",
    "* Shapley\n",
    "* Counterfactual explanations\n",
    "\n",
    "Links:\n",
    "* https://machinelearningmastery.com/feature‐importance‐and‐feature‐selection‐with‐xgboost‐in‐python/"
   ]
  },
  {
   "cell_type": "code",
   "execution_count": 29,
   "metadata": {},
   "outputs": [],
   "source": [
    "import lime\n",
    "import pdpbox"
   ]
  }
 ],
 "metadata": {
  "kernelspec": {
   "display_name": "Python 3",
   "language": "python",
   "name": "python3"
  },
  "language_info": {
   "codemirror_mode": {
    "name": "ipython",
    "version": 3
   },
   "file_extension": ".py",
   "mimetype": "text/x-python",
   "name": "python",
   "nbconvert_exporter": "python",
   "pygments_lexer": "ipython3",
   "version": "3.6.13"
  }
 },
 "nbformat": 4,
 "nbformat_minor": 4
}
